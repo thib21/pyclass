{
 "cells": [
  {
   "cell_type": "markdown",
   "source": [
    "## List comprehensions in Python\n",
    "\n",
    "Python offers a convenient way to handle iterative structures (such as lists, set or dictionaries).  \n",
    "It is considered good practice to be able to manipulate them fluently. Let's have a look why!\n",
    "\n",
    "### Head-first into the topic!\n",
    "\n",
    "In Python 3, the `range` keyword does not provide a list but a different structure that can easily be transformed into a list."
   ],
   "metadata": {}
  },
  {
   "cell_type": "code",
   "execution_count": null,
   "source": [
    "range(10)"
   ],
   "outputs": [],
   "metadata": {}
  },
  {
   "cell_type": "code",
   "execution_count": null,
   "source": [
    "type(range(10))  # this is not a list!"
   ],
   "outputs": [],
   "metadata": {}
  },
  {
   "cell_type": "code",
   "execution_count": null,
   "source": [
    "list(range(10))  # but you can make a list out of it"
   ],
   "outputs": [],
   "metadata": {}
  },
  {
   "cell_type": "markdown",
   "source": [
    "The key point about this notation is performance: when you write `range(10000)`, you do not create a list of size 10000, but a structure that will give you a new integer each time you go through a loop.\n",
    "\n",
    "In that perspective, you may be comfortable with the following snippet of code:"
   ],
   "metadata": {}
  },
  {
   "cell_type": "code",
   "execution_count": null,
   "source": [
    "for i in range(10):\n",
    "    print(i, end=\" \")"
   ],
   "outputs": [],
   "metadata": {}
  },
  {
   "cell_type": "markdown",
   "source": [
    "Now, let's say we want to compute $x \\mapsto 2\\cdot x$ for each element of a given list (resp. range).  \n",
    "Let us compare the two following ways of writing it."
   ],
   "metadata": {}
  },
  {
   "cell_type": "code",
   "execution_count": null,
   "source": [
    "a = range(1000000)"
   ],
   "outputs": [],
   "metadata": {}
  },
  {
   "cell_type": "code",
   "execution_count": null,
   "source": [
    "%%time\n",
    "new_list = [2 * x for x in a]"
   ],
   "outputs": [],
   "metadata": {}
  },
  {
   "cell_type": "code",
   "execution_count": null,
   "source": [
    "%%time\n",
    "new_list = []\n",
    "for x in a:\n",
    "    new_list.append(x)"
   ],
   "outputs": [],
   "metadata": {
    "scrolled": true
   }
  },
  {
   "cell_type": "markdown",
   "source": [
    "<div class=\"alert alert-success\">\n",
    "<b>Definition:</b> Any syntax going like `[f(x) for x in array]` is referred to as <em>list comprehension</em>.  \n",
    "</div>\n",
    "\n",
    "<div class=\"alert alert-danger\">\n",
    "<b>Important note:</b> Besides being a more compact way to write things, list comprehension is also more efficient.\n",
    "</div>\n",
    "\n",
    "The official [docs.python.org](https://docs.python.org/) mentions it quickly [here](https://docs.python.org/3/tutorial/datastructures.html#list-comprehensions) but let's go through this more into details.\n",
    "\n",
    "### List comprehensions are not only about lists\n",
    "\n",
    "List comprehensions are based on a Python specific data structure called a generator.  \n",
    "You can manipulate a generator with brackets (no bracket results in a `SyntaxError`)."
   ],
   "metadata": {}
  },
  {
   "cell_type": "code",
   "execution_count": null,
   "source": [
    "g = (str(i) for i in range(10))\n",
    "type(g)"
   ],
   "outputs": [],
   "metadata": {}
  },
  {
   "cell_type": "markdown",
   "source": [
    "You can construct any data structure that accept *iterable structures* with a generator."
   ],
   "metadata": {}
  },
  {
   "cell_type": "code",
   "execution_count": null,
   "source": [
    "list(g)"
   ],
   "outputs": [],
   "metadata": {}
  },
  {
   "cell_type": "markdown",
   "source": [
    "Note that the generator is now empty. You cannot build a second list from the same `g`:"
   ],
   "metadata": {}
  },
  {
   "cell_type": "code",
   "execution_count": null,
   "source": [
    "list(g)"
   ],
   "outputs": [],
   "metadata": {
    "scrolled": true
   }
  },
  {
   "cell_type": "markdown",
   "source": [
    "So let's go through different constructions:\n",
    " - the regular Python `list`:"
   ],
   "metadata": {}
  },
  {
   "cell_type": "code",
   "execution_count": null,
   "source": [
    "# equivalent notations for lists\n",
    "list(str(i) for i in range(10))\n",
    "[str(i) for i in range(10)]"
   ],
   "outputs": [],
   "metadata": {}
  },
  {
   "cell_type": "markdown",
   "source": [
    "- the regular Python `set`:"
   ],
   "metadata": {}
  },
  {
   "cell_type": "code",
   "execution_count": null,
   "source": [
    "# equivalent notations for sets\n",
    "set(str(i) for i in range(10))\n",
    "{str(i) for i in range(10)}"
   ],
   "outputs": [],
   "metadata": {}
  },
  {
   "cell_type": "markdown",
   "source": [
    "- even dictionaries (keyword `dict`) with the column character `:`"
   ],
   "metadata": {}
  },
  {
   "cell_type": "code",
   "execution_count": null,
   "source": [
    "dict((i, str(i)) for i in range(10))\n",
    "{i: str(i) for i in range(10)}"
   ],
   "outputs": [],
   "metadata": {
    "scrolled": true
   }
  },
  {
   "cell_type": "markdown",
   "source": [
    "There are actually other useful constructions, e.g. `sorted` that builds a sorted list from a generator:"
   ],
   "metadata": {}
  },
  {
   "cell_type": "code",
   "execution_count": null,
   "source": [
    "[i * (-1) ** (i) for i in range(10)]"
   ],
   "outputs": [],
   "metadata": {}
  },
  {
   "cell_type": "code",
   "execution_count": null,
   "source": [
    "sorted(i * (-1) ** (i) for i in range(10))"
   ],
   "outputs": [],
   "metadata": {}
  },
  {
   "cell_type": "markdown",
   "source": [
    "Building a `set` from the generator can also be useful as reflected on the following snippet:"
   ],
   "metadata": {}
  },
  {
   "cell_type": "code",
   "execution_count": null,
   "source": [
    "[i ** 2 for i in range(-5, 5)]"
   ],
   "outputs": [],
   "metadata": {}
  },
  {
   "cell_type": "code",
   "execution_count": null,
   "source": [
    "{i ** 2 for i in range(-5, 5)}"
   ],
   "outputs": [],
   "metadata": {
    "scrolled": true
   }
  },
  {
   "cell_type": "markdown",
   "source": [
    "You can also build there structures with more complex constructions.  \n",
    "Recall the `enumerate` and/or `zip` constructions:"
   ],
   "metadata": {}
  },
  {
   "cell_type": "code",
   "execution_count": null,
   "source": [
    "french = [\"un\", \"deux\", \"trois\", \"cat\", \"sank\"]\n",
    "english = [\"one\", \"two\", \"three\", \"four\", \"five\"]\n",
    "\n",
    "words = {i + 1: f for i, f in enumerate(zip(french, english))}"
   ],
   "outputs": [],
   "metadata": {}
  },
  {
   "cell_type": "code",
   "execution_count": null,
   "source": [
    "words"
   ],
   "outputs": [],
   "metadata": {
    "scrolled": true
   }
  },
  {
   "cell_type": "markdown",
   "source": [
    "Looping on a dictionary iterates on the keys:"
   ],
   "metadata": {}
  },
  {
   "cell_type": "code",
   "execution_count": null,
   "source": [
    "[str(s) for s in words]"
   ],
   "outputs": [],
   "metadata": {}
  },
  {
   "cell_type": "markdown",
   "source": [
    "But you can also use the `dict.items()` method.  \n",
    "Here is an example to show there is “no” limit in how you can use list comprehensions."
   ],
   "metadata": {}
  },
  {
   "cell_type": "code",
   "execution_count": null,
   "source": [
    "[\n",
    "    [key, value[0], len(value[0]), value[1].upper(), len(value[1])]\n",
    "    for key, value in words.items()\n",
    "]"
   ],
   "outputs": [],
   "metadata": {}
  },
  {
   "cell_type": "markdown",
   "source": [
    "### Common loop patterns using list comprehensions\n",
    "\n",
    "Check the difference between a `zip` and a double loop construction:"
   ],
   "metadata": {}
  },
  {
   "cell_type": "code",
   "execution_count": null,
   "source": [
    "list(zip(french, english))"
   ],
   "outputs": [],
   "metadata": {}
  },
  {
   "cell_type": "code",
   "execution_count": null,
   "source": [
    "[[(x, y) for x in french] for y in english]"
   ],
   "outputs": [],
   "metadata": {}
  },
  {
   "cell_type": "code",
   "execution_count": null,
   "source": [
    "[(x, y) for x in french for y in english]"
   ],
   "outputs": [],
   "metadata": {}
  },
  {
   "cell_type": "markdown",
   "source": [
    "<div class=\"alert alert-danger\">\n",
    "<b>Important note:</b> Be aware of which of the two for loops iterates faster\n",
    "</div>\n",
    "\n",
    "You can also add conditions within the list comprehension:"
   ],
   "metadata": {}
  },
  {
   "cell_type": "code",
   "execution_count": null,
   "source": [
    "[a for a in range(10) if a % 2 == 0]"
   ],
   "outputs": [],
   "metadata": {}
  },
  {
   "cell_type": "markdown",
   "source": [
    "<div class=\"alert alert-warning\">\n",
    "<b>Exercice:</b> Use list comprehension to generate a list of $(a, b, c)$ integers such that $a^2 + b^2 = c^2$.\n",
    "</div>"
   ],
   "metadata": {}
  },
  {
   "cell_type": "code",
   "execution_count": null,
   "source": [
    "[\n",
    "    (a, b, c)\n",
    "    for a in range(1, 30)\n",
    "    for b in range(a, 30)\n",
    "    for c in range(b, 30)\n",
    "    if a ** 2 + b ** 2 == c ** 2\n",
    "]"
   ],
   "outputs": [],
   "metadata": {}
  },
  {
   "cell_type": "markdown",
   "source": [
    "### Similar functions in numpy\n",
    "\n",
    "Python loops are known to be expensive. List comprehensions help, but `numpy` takes a different approach by unfolding the loops using code written in C."
   ],
   "metadata": {}
  },
  {
   "cell_type": "code",
   "execution_count": null,
   "source": [
    "import numpy as np"
   ],
   "outputs": [],
   "metadata": {}
  },
  {
   "cell_type": "code",
   "execution_count": null,
   "source": [
    "%%time\n",
    "new_list = [2 * x for x in range(1000000)]"
   ],
   "outputs": [],
   "metadata": {}
  },
  {
   "cell_type": "code",
   "execution_count": null,
   "source": [
    "a = np.arange(1000000)"
   ],
   "outputs": [],
   "metadata": {}
  },
  {
   "cell_type": "code",
   "execution_count": null,
   "source": [
    "%%time\n",
    "new_list = 2 * a"
   ],
   "outputs": [],
   "metadata": {}
  },
  {
   "cell_type": "markdown",
   "source": [
    "<div class=\"alert alert-danger\">\n",
    "<b>Important note:</b> Although you cannot write as much in numpy as you can with list comprehension (because of the combination with the if construct), numpy remains the faster option.\n",
    "</div>"
   ],
   "metadata": {}
  },
  {
   "cell_type": "markdown",
   "source": [
    "* Nested comprehension may remind you the `meshgrid` function:"
   ],
   "metadata": {}
  },
  {
   "cell_type": "code",
   "execution_count": null,
   "source": [
    "z = [[(x + y) for x in range(10)] for y in range(5)]\n",
    "z"
   ],
   "outputs": [],
   "metadata": {
    "scrolled": true
   }
  },
  {
   "cell_type": "code",
   "execution_count": null,
   "source": [
    "a, b = np.meshgrid(np.arange(10), np.arange(5))\n",
    "c = a + b\n",
    "c"
   ],
   "outputs": [],
   "metadata": {}
  },
  {
   "cell_type": "markdown",
   "source": [
    "* You can go through elements of a 2D array with the following constructs:"
   ],
   "metadata": {}
  },
  {
   "cell_type": "code",
   "execution_count": null,
   "source": [
    "[col[1] for col in z]"
   ],
   "outputs": [],
   "metadata": {}
  },
  {
   "cell_type": "code",
   "execution_count": null,
   "source": [
    "c[:, 1]"
   ],
   "outputs": [],
   "metadata": {}
  },
  {
   "cell_type": "markdown",
   "source": [
    "Be careful though that `numpy` does not provide you a fresh copy of the array even if you create intermediate references."
   ],
   "metadata": {}
  },
  {
   "cell_type": "code",
   "execution_count": null,
   "source": [
    "d = c[:, 0]\n",
    "d *= 0\n",
    "c"
   ],
   "outputs": [],
   "metadata": {}
  },
  {
   "cell_type": "markdown",
   "source": [
    "### Yet another implementation for this old academic problem\n",
    "\n",
    "Say we want to get all the prime numbers lesser than n.  \n",
    "List comprehension can be a comfortable way to compute the sieve of Eratosthenes."
   ],
   "metadata": {}
  },
  {
   "cell_type": "code",
   "execution_count": null,
   "source": [
    "%%timeit\n",
    "# First compute the non prime numbers\n",
    "nope = [j for i in range(2, 8) for j in range(i * 2, 50, i)]\n",
    "# Then build a new list not containing prime numbers\n",
    "[x for x in range(2, 50) if x not in nope]"
   ],
   "outputs": [],
   "metadata": {
    "scrolled": true
   }
  },
  {
   "cell_type": "markdown",
   "source": [
    "Actually the following implementation with `sets` may be more space and time efficient:"
   ],
   "metadata": {}
  },
  {
   "cell_type": "code",
   "execution_count": null,
   "source": [
    "%%timeit\n",
    "sieve = set(range(2, 50))\n",
    "for i in range(2, 8):\n",
    "    sieve -= set(range(2 * i, 50, i))\n",
    "sieve"
   ],
   "outputs": [],
   "metadata": {}
  },
  {
   "cell_type": "markdown",
   "source": [
    "### Another way to build your own generators\n",
    "\n",
    "Let's recall the types of the structures we mentioned:"
   ],
   "metadata": {}
  },
  {
   "cell_type": "code",
   "execution_count": null,
   "source": [
    "type(range(10))"
   ],
   "outputs": [],
   "metadata": {}
  },
  {
   "cell_type": "code",
   "execution_count": null,
   "source": [
    "type(i for i in range(10))"
   ],
   "outputs": [],
   "metadata": {}
  },
  {
   "cell_type": "markdown",
   "source": [
    "Python provides a `yield` keyword in order to let you write your own generator objects.  \n",
    "When the program hits a yield keyword:\n",
    "\n",
    "1. it *yields* the current value,\n",
    "2. then waits for the next iteration in a loop (see the `__next__` keyword),\n",
    "3. then re-enters the program where it was last interrupted. \n",
    "\n",
    "The [Syracuse suite](https://en.wikipedia.org/wiki/Collatz_conjecture) is a good study case for this programming style.  \n",
    "See in the `doctest` how we build the suite using the `list` constructor on a `generator` structure."
   ],
   "metadata": {}
  },
  {
   "cell_type": "code",
   "execution_count": null,
   "source": [
    "def syracuse(n):\n",
    "    \"\"\"Computes the Syracuse suite.\n",
    "\n",
    "    >>> list(p for p in syracuse(28))\n",
    "    [28, 14, 7, 22, 11, 34, 17, 52, 26, 13, 40, 20, 10, 5, 16, 8, 4, 2, 1]\n",
    "    \"\"\"\n",
    "    assert n > 0\n",
    "    yield n\n",
    "    while n != 1:\n",
    "        if n & 1 == 0:\n",
    "            n = n // 2\n",
    "        else:\n",
    "            n = 3 * n + 1\n",
    "        yield n"
   ],
   "outputs": [],
   "metadata": {}
  },
  {
   "cell_type": "markdown",
   "source": [
    "An interesting plot to draw is the length of the Syracuse list for all integers within a certain range.  \n",
    "See how confortable it can be to write it."
   ],
   "metadata": {}
  },
  {
   "cell_type": "code",
   "execution_count": null,
   "source": [
    "import matplotlib.pyplot as plt"
   ],
   "outputs": [],
   "metadata": {}
  },
  {
   "cell_type": "code",
   "execution_count": null,
   "source": [
    "def length(iterable):\n",
    "    \"\"\"Length of a generator.\n",
    "\n",
    "    The `len` keyword does not apply on generators.\n",
    "    This makes the trick without expanding the list!\n",
    "    \"\"\"\n",
    "    return sum(1 for _ in iterable)\n",
    "\n",
    "\n",
    "# Note how we can pass a range to `plt.plot`, not necessarily a list\n",
    "# Note the multi-level generator in the second part of the array\n",
    "interval = range(1, 1000)\n",
    "plt.plot(interval, [length(syracuse(i)) for i in interval], \"r.\")"
   ],
   "outputs": [],
   "metadata": {
    "scrolled": true
   }
  },
  {
   "cell_type": "code",
   "execution_count": null,
   "source": [
    "[i for i in range(1, 50) if length(syracuse(i)) > 100]"
   ],
   "outputs": [],
   "metadata": {}
  },
  {
   "cell_type": "markdown",
   "source": [
    "27 is the first integer when the Syracuse suite length exceeds 100.  \n",
    "We can pretty-print the suite with another kind of list comprehension."
   ],
   "metadata": {}
  },
  {
   "cell_type": "code",
   "execution_count": null,
   "source": [
    "print(\" ⇢ \".join(str(i) for i in syracuse(27)))"
   ],
   "outputs": [],
   "metadata": {
    "scrolled": true
   }
  },
  {
   "cell_type": "code",
   "execution_count": null,
   "source": [
    "plt.plot(list(syracuse(27)))"
   ],
   "outputs": [],
   "metadata": {}
  },
  {
   "cell_type": "markdown",
   "source": [
    "We can see the suite goes up to 9232 (!) before coming back (quite fast) down to `[4, 2, 1]`.  \n",
    "Another interesting plot shows the *height* of the suite for each integer."
   ],
   "metadata": {}
  },
  {
   "cell_type": "markdown",
   "source": [
    "<div class=\"alert alert-danger\">\n",
    "<b>Important note:</b> `max` is also a construction that accepts a generator as parameter!\n",
    "</div>"
   ],
   "metadata": {}
  },
  {
   "cell_type": "code",
   "execution_count": null,
   "source": [
    "ax = plt.axes()\n",
    "ax.set_yscale(\"log\")\n",
    "ax.set_yticks([1 << i for i in range(1, 17)])\n",
    "ax.set_yticklabels([1 << i for i in range(1, 17)])\n",
    "\n",
    "interval = range(1, 500)\n",
    "ax.plot(interval, [max(syracuse(i)) for i in interval], \"r.\")"
   ],
   "outputs": [],
   "metadata": {}
  },
  {
   "cell_type": "markdown",
   "source": [
    "A last interesting graph plots the height of a suite depending on its length."
   ],
   "metadata": {}
  },
  {
   "cell_type": "code",
   "execution_count": null,
   "source": [
    "ax = plt.axes()\n",
    "ax.set_yscale(\"log\")\n",
    "ax.set_yticks([1 << i for i in range(1, 17)])\n",
    "ax.set_yticklabels([1 << i for i in range(1, 17)])\n",
    "\n",
    "interval = range(1, 500)\n",
    "ax.plot(\n",
    "    [length(syracuse(i)) for i in interval], [max(syracuse(i)) for i in interval], \"r.\"\n",
    ")"
   ],
   "outputs": [],
   "metadata": {}
  },
  {
   "cell_type": "markdown",
   "source": [
    "### Read more about it\n",
    "\n",
    "- The PEP about list comprehensions: https://www.python.org/dev/peps/pep-0202/\n",
    "- An interesting story about code optimisation: https://www.python.org/doc/essays/list2str/\n",
    "- More about this new notation: https://en.wikipedia.org/wiki/Set-builder_notation"
   ],
   "metadata": {}
  }
 ],
 "metadata": {
  "kernelspec": {
   "name": "python3",
   "display_name": "Python 3.9.6 64-bit ('pyseminar': conda)"
  },
  "language_info": {
   "codemirror_mode": {
    "name": "ipython",
    "version": 3
   },
   "file_extension": ".py",
   "mimetype": "text/x-python",
   "name": "python",
   "nbconvert_exporter": "python",
   "pygments_lexer": "ipython3",
   "version": "3.9.6"
  },
  "widgets": {
   "application/vnd.jupyter.widget-state+json": {
    "state": {},
    "version_major": 2,
    "version_minor": 0
   }
  },
  "interpreter": {
   "hash": "c97517449cd69cb9cb4c2610efed8d27064148479f39ab2db88c14e75e0af4e3"
  }
 },
 "nbformat": 4,
 "nbformat_minor": 4
}