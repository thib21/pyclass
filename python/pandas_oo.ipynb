{
 "cells": [
  {
   "cell_type": "markdown",
   "source": [
    "# Object-Oriented Python\n",
    "\n",
    "During this session, we will be exploring the Oriented-Object paradigm in Python using all what we did with Pandas in previous sessions. We will be working with the same data of aircraft supervising latest Tour de France."
   ],
   "metadata": {}
  },
  {
   "cell_type": "code",
   "execution_count": null,
   "source": [
    "import pandas as pd\n",
    "\n",
    "df = pd.read_json(\"../data/tour_de_france.json.gz\")"
   ],
   "outputs": [],
   "metadata": {}
  },
  {
   "cell_type": "markdown",
   "source": [
    "There are three main principles around OOP:\n",
    "- **encapsulation**: objects embed properties (attributes, methods);\n",
    "- **interface**: objects expose and document services, they hide all about their inner behaviour;\n",
    "- **factorisation**: objects/classes with similar behaviour are grouped together.\n",
    "\n",
    "A common way of working with Python is to implement **protocols**. Protocols are informal interfaces defined by a set of methods allowing an object to play a particular role in the system. For instance, for an object to behave as an iterable you don't need to subclass an abstract class Iterable or implement explicitely an interface Iterable: it is enough to implement the special methods `__iter__` method or even just the `__getitem__` (we will go through these concepts hereunder).\n",
    "\n",
    "Let's have a look at the special method `sorted`: it expects an **iterable** structure of **comparable** objects to return a sorted list of these objects. Let's have a look:"
   ],
   "metadata": {}
  },
  {
   "cell_type": "code",
   "execution_count": null,
   "source": [
    "sorted([-2, 4, 0])"
   ],
   "outputs": [],
   "metadata": {}
  },
  {
   "cell_type": "markdown",
   "source": [
    "However it fails when object are not comparable:"
   ],
   "metadata": {}
  },
  {
   "cell_type": "code",
   "execution_count": null,
   "source": [
    "sorted([-1, 1+1j, 1-2j])"
   ],
   "outputs": [],
   "metadata": {}
  },
  {
   "cell_type": "markdown",
   "source": [
    "Then we can write our own ComparableComplex class and implement a comparison based on modules. The **comparable** protocol expects the `<` operator to be defined (special keyword: `__lt__`)"
   ],
   "metadata": {}
  },
  {
   "cell_type": "code",
   "execution_count": null,
   "source": [
    "class ComparableComplex(complex):\n",
    "    def __lt__(a, b):\n",
    "        return abs(a) < abs(b)\n",
    "\n",
    "\n",
    "# Now this works: note the input is not a list but a generator.\n",
    "sorted(ComparableComplex(i) for i in [-1, 1 + 1j, 1 - 2j])"
   ],
   "outputs": [],
   "metadata": {}
  },
  {
   "cell_type": "markdown",
   "source": [
    "We will be working with different views of pandas DataFrame for trajectories and collection of trajectories. Before we start any further, let's remember two ways to factorise behaviours in Object-Oriented Programming: **inheritance** and **composition**.\n",
    "\n",
    "The best way to do is not always obvious and it often takes experience to find the good and bad sides of both paradigms.\n",
    "\n",
    "In our previous examples, our ComparableComplex *offered not much more* than complex numbers. As long as we don't need to compare them, we could have *put them in a list together* with regular complex numbers *without loss of generality*: after all a ComparableComplex **is** a complex. That's a good smell for **inheritance**.\n",
    "\n",
    "If we think about our trajectories, we will build them around pandas DataFrames. Trajectories will probably have a single attribute: the dataframe. It could be tempting to inherit from `pd.DataFrame`; it will probably work fine in the beginning but problems will occur sooner than expected (most likely with inconsistent interfaces). We **model** trajectories and collections of trajectories with dataframes, but a trajectory **is not** a dataframe. Be reasonable and go for **composition**. \n",
    "\n",
    "So now we can start.\n",
    "\n",
    "- The `__init__` special method defines a constructor. `self` is necessary: it represents the current object.  \n",
    "  Note that **the constructor does not return anything**."
   ],
   "metadata": {}
  },
  {
   "cell_type": "code",
   "execution_count": null,
   "source": [
    "class FlightCollection:\n",
    "    def __init__(self, data):\n",
    "        self.data = data\n",
    "\n",
    "\n",
    "class Flight:\n",
    "    def __init__(self, data):\n",
    "        self.data = data"
   ],
   "outputs": [],
   "metadata": {}
  },
  {
   "cell_type": "code",
   "execution_count": null,
   "source": [
    "FlightCollection(df)"
   ],
   "outputs": [],
   "metadata": {}
  },
  {
   "cell_type": "markdown",
   "source": [
    "## Special methods\n",
    "\n",
    "There is nothing much we did at this point: just two classes holding a dataframe as an attribute. Even the output representation is the default one based on the class name and the object's address in memory.\n",
    "\n",
    "- we can **override** the special `__repr__` method (which **returns** a string—**do NOT** `print`!) in order to display a more relevant output. You may use the number of lines in the underlying dataframe for instance.\n",
    "\n",
    "<div class='alert alert-warning'>\n",
    "    <b>Exercice:</b> Write a relevant <code>__repr__</code> method.\n",
    "</div>"
   ],
   "metadata": {}
  },
  {
   "cell_type": "code",
   "execution_count": null,
   "source": [
    "# %load ../solutions/pandas_oo/flight_repr.py\n"
   ],
   "outputs": [],
   "metadata": {}
  },
  {
   "cell_type": "code",
   "execution_count": null,
   "source": [
    "\"{0!r}\".format(FlightCollection(df))"
   ],
   "outputs": [],
   "metadata": {}
  },
  {
   "cell_type": "markdown",
   "source": [
    "Note that we passed the dataframe in the constructor. We want to keep it that way (we will see later why). However we may want to create a different type of constructor to read directly from the JSON file. There is a special kind of keyword for that.\n",
    "\n",
    "- `@classmethod` is a decorator to put before a method. It makes it an **class method**, i.e. you call it on the class and not on the object. The first parameter is no longer `self` (the instance) but by convention `cls` (the class).\n",
    "\n",
    "<div class='alert alert-warning'>\n",
    "    <b>Exercice:</b> Write a relevant <code>read_json</code> class method.\n",
    "</div>"
   ],
   "metadata": {}
  },
  {
   "cell_type": "code",
   "execution_count": null,
   "source": [
    "# %load ../solutions/pandas_oo/flight_json.py\n",
    "\n"
   ],
   "outputs": [],
   "metadata": {}
  },
  {
   "cell_type": "code",
   "execution_count": null,
   "source": [
    "collection = FlightCollection.read_json(\"../data/tour_de_france.json.gz\")"
   ],
   "outputs": [],
   "metadata": {}
  },
  {
   "cell_type": "markdown",
   "source": [
    "Now we want to make this `FlightCollection` iterable.\n",
    "\n",
    "- The special method to implement is `__iter__`. This method takes no argument and **yields** elements one after the other.\n",
    "\n",
    "<div class='alert alert-warning'>\n",
    "    <b>Exercice:</b> Write a relevant <code>__iter__</code> method which yields Flight instances.\n",
    "</div>\n",
    "\n",
    "Of course, you should reuse the code of last session about iteration."
   ],
   "metadata": {}
  },
  {
   "cell_type": "code",
   "execution_count": null,
   "source": [
    "# %load ../solutions/pandas_oo/flight_iter.py\n"
   ],
   "outputs": [],
   "metadata": {}
  },
  {
   "cell_type": "code",
   "execution_count": null,
   "source": [
    "collection = FlightCollection.read_json(\"../data/tour_de_france.json.gz\")\n",
    "\n",
    "for flight in collection:\n",
    "    print(flight)"
   ],
   "outputs": [],
   "metadata": {}
  },
  {
   "cell_type": "markdown",
   "source": [
    "<div class='alert alert-warning'>\n",
    "    <b>Exercice:</b> Write a relevant <code>__repr__</code> method for Flight including callsign, aircraft icao24 code and day of the flight.\n",
    "</div>"
   ],
   "metadata": {}
  },
  {
   "cell_type": "code",
   "execution_count": null,
   "source": [
    "# %load ../solutions/pandas_oo/flight_nice_repr.py\n",
    "\n"
   ],
   "outputs": [],
   "metadata": {}
  },
  {
   "cell_type": "code",
   "execution_count": null,
   "source": [
    "for flight in collection:\n",
    "    print(flight)"
   ],
   "outputs": [],
   "metadata": {}
  },
  {
   "cell_type": "markdown",
   "source": [
    "<div class='alert alert-success'>\n",
    "    <b>Note:</b> Since our FlightCollection is iterable, we can pass it to any method accepting iterable structures.\n",
    "</div>"
   ],
   "metadata": {}
  },
  {
   "cell_type": "code",
   "execution_count": null,
   "source": [
    "list(collection)"
   ],
   "outputs": [],
   "metadata": {}
  },
  {
   "cell_type": "markdown",
   "source": [
    "<div class='alert alert-warning'>\n",
    "    <b>Warning:</b> However, it won't work here, because Flight instances cannot be compared, unless we specify on which criterion we want to compare.\n",
    "</div>"
   ],
   "metadata": {}
  },
  {
   "cell_type": "code",
   "execution_count": null,
   "source": [
    "sorted(collection)"
   ],
   "outputs": [],
   "metadata": {}
  },
  {
   "cell_type": "code",
   "execution_count": null,
   "source": [
    "sorted(collection, key=lambda x: x.min(\"timestamp\"))"
   ],
   "outputs": [],
   "metadata": {}
  },
  {
   "cell_type": "markdown",
   "source": [
    "<div class='alert alert-warning'>\n",
    "    <b>Exercice:</b> Implement the proper missing method so that a FlightCollection can be sorted.\n",
    "</div>"
   ],
   "metadata": {}
  },
  {
   "cell_type": "code",
   "execution_count": null,
   "source": [
    "# %load ../solutions/pandas_oo/flight_sort.py\n",
    "\n"
   ],
   "outputs": [],
   "metadata": {}
  },
  {
   "cell_type": "code",
   "execution_count": null,
   "source": [
    "sorted(collection)"
   ],
   "outputs": [],
   "metadata": {}
  },
  {
   "cell_type": "markdown",
   "source": [
    "## Data visualisation\n",
    "\n",
    "See the following snippet of code for plotting trajectories on a map."
   ],
   "metadata": {}
  },
  {
   "cell_type": "code",
   "execution_count": null,
   "source": [
    "import matplotlib.pyplot as plt\n",
    "from cartopy.crs import EuroPP, PlateCarree\n",
    "\n",
    "fig, ax = plt.subplots(figsize=(10, 10), subplot_kw=dict(projection=EuroPP()))\n",
    "ax.coastlines(\"50m\")\n",
    "\n",
    "for flight in collection:\n",
    "    flight.data.plot(\n",
    "        ax=ax,\n",
    "        x=\"longitude\",\n",
    "        y=\"latitude\",\n",
    "        legend=False,\n",
    "        transform=PlateCarree(),\n",
    "        color=\"steelblue\",\n",
    "    )\n",
    "\n",
    "ax.set_extent((-5, 10, 42, 52))\n",
    "ax.set_yticks([])"
   ],
   "outputs": [],
   "metadata": {}
  },
  {
   "cell_type": "markdown",
   "source": [
    "<div class='alert alert-warning'>\n",
    "    <b>Exercice:</b> Implement a plot method to make the job even more simple.\n",
    "</div>"
   ],
   "metadata": {}
  },
  {
   "cell_type": "code",
   "execution_count": null,
   "source": [
    "# %load ../solutions/pandas_oo/flight_plot.py"
   ],
   "outputs": [],
   "metadata": {}
  },
  {
   "cell_type": "code",
   "execution_count": null,
   "source": [
    "fig, ax = plt.subplots(figsize=(10, 10), subplot_kw=dict(projection=EuroPP()))\n",
    "ax.coastlines(\"50m\")\n",
    "\n",
    "for flight in collection:\n",
    "    flight.plot(ax, color=\"steelblue\")\n",
    "\n",
    "ax.set_extent((-5, 10, 42, 52))\n",
    "ax.set_yticks([])"
   ],
   "outputs": [],
   "metadata": {}
  },
  {
   "cell_type": "markdown",
   "source": [
    "## Indexation\n",
    "\n",
    "Until now, we implemented all what is necessary to iterate on structures.  \n",
    "This means we have all we need to yield elements one after the other.\n",
    "\n",
    "Note that:\n",
    "- Python does not assume your structure has a length.  \n",
    "  (There are some infinite iterators, like the one yielding natural integers one after the other.)\n",
    "- Python cannot guess for you how you want to index your flights.\n"
   ],
   "metadata": {}
  },
  {
   "cell_type": "code",
   "execution_count": null,
   "source": [
    "len(collection)"
   ],
   "outputs": [],
   "metadata": {}
  },
  {
   "cell_type": "code",
   "execution_count": null,
   "source": [
    "collection['ASR172B']"
   ],
   "outputs": [],
   "metadata": {}
  },
  {
   "cell_type": "markdown",
   "source": [
    "There are many ways to proceed with indexing. We may want to select flights with a specific callsign, or a specific icao24 code. Also, if only one Flight is returned, we want a Flight object. If two or more segments are contained in the underlying dataframe, we want to stick to a FlightCollection.\n",
    "\n",
    "<div class=\"alert alert-warning\">\n",
    "    <b>Exercice:</b> Implement a <code>__len__</code> special method, then a <code>__getitem__</code> special method that will return a Flight or a FlightCollection (depending on the selection) wrapping data corresponding to the given callsign or icao24 code.\n",
    "</div>"
   ],
   "metadata": {}
  },
  {
   "cell_type": "code",
   "execution_count": null,
   "source": [
    "# %load ../solutions/pandas_oo/flight_index.py\n",
    "\n"
   ],
   "outputs": [],
   "metadata": {}
  },
  {
   "cell_type": "code",
   "execution_count": null,
   "source": [
    "collection = FlightCollection.read_json(\"../data/tour_de_france.json.gz\")\n",
    "collection"
   ],
   "outputs": [],
   "metadata": {}
  },
  {
   "cell_type": "code",
   "execution_count": null,
   "source": [
    "collection[\"3924a0\"]"
   ],
   "outputs": [],
   "metadata": {}
  },
  {
   "cell_type": "code",
   "execution_count": null,
   "source": [
    "collection[\"ASR172B\"]"
   ],
   "outputs": [],
   "metadata": {}
  },
  {
   "cell_type": "code",
   "execution_count": null,
   "source": [
    "from collections import defaultdict\n",
    "\n",
    "count = defaultdict(int)\n",
    "for flight in collection[\"ASR172B\"]:\n",
    "    count[flight.icao24] += 1\n",
    "\n",
    "count"
   ],
   "outputs": [],
   "metadata": {}
  },
  {
   "cell_type": "markdown",
   "source": [
    "As we can see here, this method for indexing is not convenient enough. We could select the only flight `collection[\"ASR172B\"][\"3924a0\"]` but with current implementation, there is no way to separate the 18 other flights.\n",
    "\n",
    "<div class='alert alert-warning'>\n",
    "    <b>Exercice:</b> Implement a different <code>__getitem__</code> method that checks the type of the index: filter on callsign/icao24 if the key is a <code>str</code>, filter on the day of the flight if the key is a <code>pd.Timestamp</code>.\n",
    "</div>"
   ],
   "metadata": {}
  },
  {
   "cell_type": "code",
   "execution_count": null,
   "source": [
    "# %load ../solutions/pandas_oo/flight_index_time.py"
   ],
   "outputs": [],
   "metadata": {}
  },
  {
   "cell_type": "code",
   "execution_count": null,
   "source": [
    "collection = FlightCollection.read_json(\"../data/tour_de_france.json.gz\")"
   ],
   "outputs": [],
   "metadata": {}
  },
  {
   "cell_type": "code",
   "execution_count": null,
   "source": [
    "collection[\"ASR172B\"][pd.Timestamp(\"2019-07-18\")]"
   ],
   "outputs": [],
   "metadata": {}
  },
  {
   "cell_type": "markdown",
   "source": [
    "<div class='alert alert-warning'>\n",
    "    <b>Exercice:</b> Plot all trajectories flying on July 18th. How can they be sure to not collide with each other?\n",
    "</div>"
   ],
   "metadata": {}
  },
  {
   "cell_type": "code",
   "execution_count": null,
   "source": [
    "# %load ../solutions/pandas_oo/flight_plot_july18.py"
   ],
   "outputs": [],
   "metadata": {}
  },
  {
   "cell_type": "code",
   "execution_count": null,
   "source": [],
   "outputs": [],
   "metadata": {}
  },
  {
   "cell_type": "code",
   "execution_count": null,
   "source": [],
   "outputs": [],
   "metadata": {}
  }
 ],
 "metadata": {
  "kernelspec": {
   "name": "python3",
   "display_name": "Python 3.9.6 64-bit ('pyseminar': conda)"
  },
  "language_info": {
   "codemirror_mode": {
    "name": "ipython",
    "version": 3
   },
   "file_extension": ".py",
   "mimetype": "text/x-python",
   "name": "python",
   "nbconvert_exporter": "python",
   "pygments_lexer": "ipython3",
   "version": "3.9.6"
  },
  "interpreter": {
   "hash": "c97517449cd69cb9cb4c2610efed8d27064148479f39ab2db88c14e75e0af4e3"
  }
 },
 "nbformat": 4,
 "nbformat_minor": 4
}