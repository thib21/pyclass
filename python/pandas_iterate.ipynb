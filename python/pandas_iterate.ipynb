{
 "cells": [
  {
   "cell_type": "markdown",
   "metadata": {},
   "source": [
    "## Custom iteration in Python: a use case with Pandas.\n",
    "\n",
    "Python offers convenient ways to programmatically define how to iterate on structures.\n",
    "\n",
    "Before going further, be sure to understand (know how to explain):\n",
    " - what an iterable structure is in Python;\n",
    " - how the yield keyword works.\n",
    " \n",
    "We will work in this notebook with the following data, representing trajectories supervising the Tour de France cycling race:"
   ]
  },
  {
   "cell_type": "code",
   "execution_count": 1,
   "metadata": {},
   "outputs": [
    {
     "data": {
      "text/plain": [
       "(53398, 9)"
      ]
     },
     "execution_count": 1,
     "metadata": {},
     "output_type": "execute_result"
    }
   ],
   "source": [
    "import pandas as pd\n",
    "\n",
    "df = pd.read_json(\"../data/tour_de_france.json.gz\")\n",
    "df.shape"
   ]
  },
  {
   "cell_type": "markdown",
   "metadata": {},
   "source": [
    "Let's have a look at a sample of this data. Two columns will be of interest to us:\n",
    "- `icao24` is an hexadecimal identifier of the transponder of the aircraft.  \n",
    "  It is (almost) equivalent to its tail number;\n",
    "- `callsign` is what appears on the radar screen of the air traffic controller.  \n",
    "  It corresponds to a mission, or for a commercial flight, to a commercial flight number. It is not enough to identify a flight as the same callsign may be reused over several days or even sometimes in the same day."
   ]
  },
  {
   "cell_type": "code",
   "execution_count": 2,
   "metadata": {},
   "outputs": [
    {
     "data": {
      "text/html": [
       "<div>\n",
       "<style scoped>\n",
       "    .dataframe tbody tr th:only-of-type {\n",
       "        vertical-align: middle;\n",
       "    }\n",
       "\n",
       "    .dataframe tbody tr th {\n",
       "        vertical-align: top;\n",
       "    }\n",
       "\n",
       "    .dataframe thead th {\n",
       "        text-align: right;\n",
       "    }\n",
       "</style>\n",
       "<table border=\"1\" class=\"dataframe\">\n",
       "  <thead>\n",
       "    <tr style=\"text-align: right;\">\n",
       "      <th></th>\n",
       "      <th>timestamp</th>\n",
       "      <th>icao24</th>\n",
       "      <th>latitude</th>\n",
       "      <th>longitude</th>\n",
       "      <th>groundspeed</th>\n",
       "      <th>track</th>\n",
       "      <th>vertical_rate</th>\n",
       "      <th>callsign</th>\n",
       "      <th>altitude</th>\n",
       "    </tr>\n",
       "  </thead>\n",
       "  <tbody>\n",
       "    <tr>\n",
       "      <th>47304</th>\n",
       "      <td>2019-07-18 09:45:50</td>\n",
       "      <td>39b861</td>\n",
       "      <td>43.584702</td>\n",
       "      <td>1.365879</td>\n",
       "      <td>179.000000</td>\n",
       "      <td>223.000000</td>\n",
       "      <td>0.0</td>\n",
       "      <td>PXR31M</td>\n",
       "      <td>11000.0</td>\n",
       "    </tr>\n",
       "    <tr>\n",
       "      <th>25633</th>\n",
       "      <td>2019-07-20 11:47:00</td>\n",
       "      <td>3924a4</td>\n",
       "      <td>42.938095</td>\n",
       "      <td>0.099643</td>\n",
       "      <td>174.771128</td>\n",
       "      <td>300.232839</td>\n",
       "      <td>0.0</td>\n",
       "      <td>ASR172B</td>\n",
       "      <td>26975.0</td>\n",
       "    </tr>\n",
       "    <tr>\n",
       "      <th>21875</th>\n",
       "      <td>2019-07-18 14:36:20</td>\n",
       "      <td>3924a4</td>\n",
       "      <td>42.996368</td>\n",
       "      <td>0.208804</td>\n",
       "      <td>129.321194</td>\n",
       "      <td>309.351753</td>\n",
       "      <td>0.0</td>\n",
       "      <td>ASR172B</td>\n",
       "      <td>24900.0</td>\n",
       "    </tr>\n",
       "    <tr>\n",
       "      <th>35268</th>\n",
       "      <td>2019-07-27 13:54:50</td>\n",
       "      <td>3924a4</td>\n",
       "      <td>45.390666</td>\n",
       "      <td>6.528625</td>\n",
       "      <td>188.162002</td>\n",
       "      <td>113.158607</td>\n",
       "      <td>0.0</td>\n",
       "      <td>ASR172B</td>\n",
       "      <td>26000.0</td>\n",
       "    </tr>\n",
       "    <tr>\n",
       "      <th>52820</th>\n",
       "      <td>2019-07-18 12:16:40</td>\n",
       "      <td>39bd17</td>\n",
       "      <td>42.911967</td>\n",
       "      <td>0.360505</td>\n",
       "      <td>128.666667</td>\n",
       "      <td>142.666667</td>\n",
       "      <td>0.0</td>\n",
       "      <td>PXR26M</td>\n",
       "      <td>10000.0</td>\n",
       "    </tr>\n",
       "    <tr>\n",
       "      <th>20112</th>\n",
       "      <td>2019-07-18 09:42:30</td>\n",
       "      <td>3924a4</td>\n",
       "      <td>43.563812</td>\n",
       "      <td>1.385235</td>\n",
       "      <td>209.480128</td>\n",
       "      <td>144.716686</td>\n",
       "      <td>0.0</td>\n",
       "      <td>ASR172B</td>\n",
       "      <td>24900.0</td>\n",
       "    </tr>\n",
       "    <tr>\n",
       "      <th>14575</th>\n",
       "      <td>2019-07-14 10:33:40</td>\n",
       "      <td>3924a4</td>\n",
       "      <td>45.485046</td>\n",
       "      <td>4.352286</td>\n",
       "      <td>178.630750</td>\n",
       "      <td>237.110598</td>\n",
       "      <td>0.0</td>\n",
       "      <td>ASR172B</td>\n",
       "      <td>26975.0</td>\n",
       "    </tr>\n",
       "    <tr>\n",
       "      <th>36452</th>\n",
       "      <td>2019-07-28 16:08:50</td>\n",
       "      <td>3924a4</td>\n",
       "      <td>48.628095</td>\n",
       "      <td>1.820333</td>\n",
       "      <td>199.203242</td>\n",
       "      <td>110.422333</td>\n",
       "      <td>0.0</td>\n",
       "      <td>ASR172B</td>\n",
       "      <td>26975.0</td>\n",
       "    </tr>\n",
       "    <tr>\n",
       "      <th>45114</th>\n",
       "      <td>2019-07-12 10:32:00</td>\n",
       "      <td>39b861</td>\n",
       "      <td>47.429184</td>\n",
       "      <td>6.639381</td>\n",
       "      <td>138.000000</td>\n",
       "      <td>306.000000</td>\n",
       "      <td>0.0</td>\n",
       "      <td>PXR31M</td>\n",
       "      <td>12000.0</td>\n",
       "    </tr>\n",
       "    <tr>\n",
       "      <th>42957</th>\n",
       "      <td>2019-07-25 10:42:30</td>\n",
       "      <td>399675</td>\n",
       "      <td>44.392822</td>\n",
       "      <td>6.644360</td>\n",
       "      <td>201.000000</td>\n",
       "      <td>186.000000</td>\n",
       "      <td>0.0</td>\n",
       "      <td>ASR171A</td>\n",
       "      <td>24000.0</td>\n",
       "    </tr>\n",
       "  </tbody>\n",
       "</table>\n",
       "</div>"
      ],
      "text/plain": [
       "                timestamp  icao24   latitude  longitude  groundspeed  \\\n",
       "47304 2019-07-18 09:45:50  39b861  43.584702   1.365879   179.000000   \n",
       "25633 2019-07-20 11:47:00  3924a4  42.938095   0.099643   174.771128   \n",
       "21875 2019-07-18 14:36:20  3924a4  42.996368   0.208804   129.321194   \n",
       "35268 2019-07-27 13:54:50  3924a4  45.390666   6.528625   188.162002   \n",
       "52820 2019-07-18 12:16:40  39bd17  42.911967   0.360505   128.666667   \n",
       "20112 2019-07-18 09:42:30  3924a4  43.563812   1.385235   209.480128   \n",
       "14575 2019-07-14 10:33:40  3924a4  45.485046   4.352286   178.630750   \n",
       "36452 2019-07-28 16:08:50  3924a4  48.628095   1.820333   199.203242   \n",
       "45114 2019-07-12 10:32:00  39b861  47.429184   6.639381   138.000000   \n",
       "42957 2019-07-25 10:42:30  399675  44.392822   6.644360   201.000000   \n",
       "\n",
       "            track  vertical_rate callsign  altitude  \n",
       "47304  223.000000            0.0   PXR31M   11000.0  \n",
       "25633  300.232839            0.0  ASR172B   26975.0  \n",
       "21875  309.351753            0.0  ASR172B   24900.0  \n",
       "35268  113.158607            0.0  ASR172B   26000.0  \n",
       "52820  142.666667            0.0   PXR26M   10000.0  \n",
       "20112  144.716686            0.0  ASR172B   24900.0  \n",
       "14575  237.110598            0.0  ASR172B   26975.0  \n",
       "36452  110.422333            0.0  ASR172B   26975.0  \n",
       "45114  306.000000            0.0   PXR31M   12000.0  \n",
       "42957  186.000000            0.0  ASR171A   24000.0  "
      ]
     },
     "execution_count": 2,
     "metadata": {},
     "output_type": "execute_result"
    }
   ],
   "source": [
    "df.sample(10)"
   ]
  },
  {
   "cell_type": "markdown",
   "metadata": {},
   "source": [
    "All data for all trajectories has been flattened in one single dataframe.\n",
    "\n",
    "<div class='alert alert-warning'>\n",
    "    <b>Exercice:</b> Let's write an <code>iterate_callsign(data)</code> function that will <em>yield</em> one sub-dataframe for each callsign.\n",
    "</div>"
   ]
  },
  {
   "cell_type": "code",
   "execution_count": 4,
   "metadata": {},
   "outputs": [],
   "source": [
    "# %load ../solutions/pandas_iterate/iterate_callsign.py"
   ]
  },
  {
   "cell_type": "markdown",
   "metadata": {},
   "source": [
    "Let's check the first and last timestamp recorded for this subset:"
   ]
  },
  {
   "cell_type": "code",
   "execution_count": 5,
   "metadata": {},
   "outputs": [
    {
     "data": {
      "text/plain": [
       "(Timestamp('2019-07-12 09:04:50'), Timestamp('2019-07-25 15:34:30'))"
      ]
     },
     "execution_count": 5,
     "metadata": {},
     "output_type": "execute_result"
    }
   ],
   "source": [
    "elt = next(iterate_callsign(df))\n",
    "elt.timestamp.min(), elt.timestamp.max()"
   ]
  },
  {
   "cell_type": "code",
   "execution_count": 6,
   "metadata": {},
   "outputs": [
    {
     "data": {
      "text/html": [
       "<div>\n",
       "<style scoped>\n",
       "    .dataframe tbody tr th:only-of-type {\n",
       "        vertical-align: middle;\n",
       "    }\n",
       "\n",
       "    .dataframe tbody tr th {\n",
       "        vertical-align: top;\n",
       "    }\n",
       "\n",
       "    .dataframe thead th {\n",
       "        text-align: right;\n",
       "    }\n",
       "</style>\n",
       "<table border=\"1\" class=\"dataframe\">\n",
       "  <thead>\n",
       "    <tr style=\"text-align: right;\">\n",
       "      <th></th>\n",
       "      <th>timestamp</th>\n",
       "    </tr>\n",
       "  </thead>\n",
       "  <tbody>\n",
       "    <tr>\n",
       "      <th>min</th>\n",
       "      <td>2019-07-12 09:04:50</td>\n",
       "    </tr>\n",
       "    <tr>\n",
       "      <th>max</th>\n",
       "      <td>2019-07-25 15:34:30</td>\n",
       "    </tr>\n",
       "  </tbody>\n",
       "</table>\n",
       "</div>"
      ],
      "text/plain": [
       "              timestamp\n",
       "min 2019-07-12 09:04:50\n",
       "max 2019-07-25 15:34:30"
      ]
     },
     "execution_count": 6,
     "metadata": {},
     "output_type": "execute_result"
    }
   ],
   "source": [
    "elt.agg(dict(timestamp=[\"min\", \"max\"]))"
   ]
  },
  {
   "cell_type": "markdown",
   "metadata": {},
   "source": [
    "In the end wrote a function that splits our dataframe by callsign (= mission code), but it is obviously not enough to separate trajectories flying over several days.\n",
    "\n",
    "We may count how many trajectories we found:"
   ]
  },
  {
   "cell_type": "code",
   "execution_count": 7,
   "metadata": {},
   "outputs": [
    {
     "data": {
      "text/plain": [
       "4"
      ]
     },
     "execution_count": 7,
     "metadata": {},
     "output_type": "execute_result"
    }
   ],
   "source": [
    "sum(1 for _ in iterate_callsign(df))"
   ]
  },
  {
   "cell_type": "markdown",
   "metadata": {},
   "source": [
    "For comparison with other ways to iterate, let's use this convenient aggregation method: it seems our dataset is heavily unbalanced with a lot of `ASR172B` flights."
   ]
  },
  {
   "cell_type": "code",
   "execution_count": 8,
   "metadata": {},
   "outputs": [
    {
     "data": {
      "text/html": [
       "<div>\n",
       "<style scoped>\n",
       "    .dataframe tbody tr th:only-of-type {\n",
       "        vertical-align: middle;\n",
       "    }\n",
       "\n",
       "    .dataframe tbody tr th {\n",
       "        vertical-align: top;\n",
       "    }\n",
       "\n",
       "    .dataframe thead tr th {\n",
       "        text-align: left;\n",
       "    }\n",
       "\n",
       "    .dataframe thead tr:last-of-type th {\n",
       "        text-align: right;\n",
       "    }\n",
       "</style>\n",
       "<table border=\"1\" class=\"dataframe\">\n",
       "  <thead>\n",
       "    <tr>\n",
       "      <th></th>\n",
       "      <th colspan=\"3\" halign=\"left\">timestamp</th>\n",
       "    </tr>\n",
       "    <tr>\n",
       "      <th></th>\n",
       "      <th>count</th>\n",
       "      <th>min</th>\n",
       "      <th>max</th>\n",
       "    </tr>\n",
       "    <tr>\n",
       "      <th>callsign</th>\n",
       "      <th></th>\n",
       "      <th></th>\n",
       "      <th></th>\n",
       "    </tr>\n",
       "  </thead>\n",
       "  <tbody>\n",
       "    <tr>\n",
       "      <th>ASR171A</th>\n",
       "      <td>6940</td>\n",
       "      <td>2019-07-12 09:04:50</td>\n",
       "      <td>2019-07-25 15:34:30</td>\n",
       "    </tr>\n",
       "    <tr>\n",
       "      <th>ASR172B</th>\n",
       "      <td>37770</td>\n",
       "      <td>2019-07-09 09:24:40</td>\n",
       "      <td>2019-07-28 19:48:20</td>\n",
       "    </tr>\n",
       "    <tr>\n",
       "      <th>PXR26M</th>\n",
       "      <td>2263</td>\n",
       "      <td>2019-07-18 07:35:50</td>\n",
       "      <td>2019-07-18 13:52:50</td>\n",
       "    </tr>\n",
       "    <tr>\n",
       "      <th>PXR31M</th>\n",
       "      <td>6425</td>\n",
       "      <td>2019-07-12 09:24:40</td>\n",
       "      <td>2019-07-25 15:34:30</td>\n",
       "    </tr>\n",
       "  </tbody>\n",
       "</table>\n",
       "</div>"
      ],
      "text/plain": [
       "         timestamp                                        \n",
       "             count                 min                 max\n",
       "callsign                                                  \n",
       "ASR171A       6940 2019-07-12 09:04:50 2019-07-25 15:34:30\n",
       "ASR172B      37770 2019-07-09 09:24:40 2019-07-28 19:48:20\n",
       "PXR26M        2263 2019-07-18 07:35:50 2019-07-18 13:52:50\n",
       "PXR31M        6425 2019-07-12 09:24:40 2019-07-25 15:34:30"
      ]
     },
     "execution_count": 8,
     "metadata": {},
     "output_type": "execute_result"
    }
   ],
   "source": [
    "df.groupby(\"callsign\").agg(dict(timestamp=[\"count\", \"min\", \"max\"]))"
   ]
  },
  {
   "cell_type": "markdown",
   "metadata": {},
   "source": [
    "A smarter way to iterate may be to use both `icao24` code and `callsign` for building our iteration method.\n",
    "\n",
    "<div class='alert alert-warning'>\n",
    "    <b>Exercice:</b> Let's write an <code>iterate_icao24_callsign(data)</code> function that will <em>yield</em> one sub-dataframe for each icao24/callsign pair. Count how many elements you get.\n",
    "</div>"
   ]
  },
  {
   "cell_type": "code",
   "execution_count": 12,
   "metadata": {},
   "outputs": [],
   "source": [
    "# %load ../solutions/pandas_iterate/iterate_icao24_callsign.py\n"
   ]
  },
  {
   "cell_type": "markdown",
   "metadata": {},
   "source": [
    "Let's compare the groups we managed to produce."
   ]
  },
  {
   "cell_type": "code",
   "execution_count": 13,
   "metadata": {},
   "outputs": [
    {
     "data": {
      "text/html": [
       "<div>\n",
       "<style scoped>\n",
       "    .dataframe tbody tr th:only-of-type {\n",
       "        vertical-align: middle;\n",
       "    }\n",
       "\n",
       "    .dataframe tbody tr th {\n",
       "        vertical-align: top;\n",
       "    }\n",
       "\n",
       "    .dataframe thead tr th {\n",
       "        text-align: left;\n",
       "    }\n",
       "\n",
       "    .dataframe thead tr:last-of-type th {\n",
       "        text-align: right;\n",
       "    }\n",
       "</style>\n",
       "<table border=\"1\" class=\"dataframe\">\n",
       "  <thead>\n",
       "    <tr>\n",
       "      <th></th>\n",
       "      <th></th>\n",
       "      <th colspan=\"3\" halign=\"left\">timestamp</th>\n",
       "    </tr>\n",
       "    <tr>\n",
       "      <th></th>\n",
       "      <th></th>\n",
       "      <th>count</th>\n",
       "      <th>min</th>\n",
       "      <th>max</th>\n",
       "    </tr>\n",
       "    <tr>\n",
       "      <th>icao24</th>\n",
       "      <th>callsign</th>\n",
       "      <th></th>\n",
       "      <th></th>\n",
       "      <th></th>\n",
       "    </tr>\n",
       "  </thead>\n",
       "  <tbody>\n",
       "    <tr>\n",
       "      <th>3924a0</th>\n",
       "      <th>ASR172B</th>\n",
       "      <td>2524</td>\n",
       "      <td>2019-07-25 08:29:40</td>\n",
       "      <td>2019-07-25 15:30:10</td>\n",
       "    </tr>\n",
       "    <tr>\n",
       "      <th>3924a4</th>\n",
       "      <th>ASR172B</th>\n",
       "      <td>35246</td>\n",
       "      <td>2019-07-09 09:24:40</td>\n",
       "      <td>2019-07-28 19:48:20</td>\n",
       "    </tr>\n",
       "    <tr>\n",
       "      <th>399675</th>\n",
       "      <th>ASR171A</th>\n",
       "      <td>6940</td>\n",
       "      <td>2019-07-12 09:04:50</td>\n",
       "      <td>2019-07-25 15:34:30</td>\n",
       "    </tr>\n",
       "    <tr>\n",
       "      <th>39b861</th>\n",
       "      <th>PXR31M</th>\n",
       "      <td>6425</td>\n",
       "      <td>2019-07-12 09:24:40</td>\n",
       "      <td>2019-07-25 15:34:30</td>\n",
       "    </tr>\n",
       "    <tr>\n",
       "      <th>39bd17</th>\n",
       "      <th>PXR26M</th>\n",
       "      <td>2263</td>\n",
       "      <td>2019-07-18 07:35:50</td>\n",
       "      <td>2019-07-18 13:52:50</td>\n",
       "    </tr>\n",
       "  </tbody>\n",
       "</table>\n",
       "</div>"
      ],
      "text/plain": [
       "                timestamp                                        \n",
       "                    count                 min                 max\n",
       "icao24 callsign                                                  \n",
       "3924a0 ASR172B       2524 2019-07-25 08:29:40 2019-07-25 15:30:10\n",
       "3924a4 ASR172B      35246 2019-07-09 09:24:40 2019-07-28 19:48:20\n",
       "399675 ASR171A       6940 2019-07-12 09:04:50 2019-07-25 15:34:30\n",
       "39b861 PXR31M        6425 2019-07-12 09:24:40 2019-07-25 15:34:30\n",
       "39bd17 PXR26M        2263 2019-07-18 07:35:50 2019-07-18 13:52:50"
      ]
     },
     "execution_count": 13,
     "metadata": {},
     "output_type": "execute_result"
    }
   ],
   "source": [
    "df.groupby([\"icao24\", \"callsign\"]).agg(dict(timestamp=[\"count\", \"min\", \"max\"]))"
   ]
  },
  {
   "cell_type": "markdown",
   "metadata": {},
   "source": [
    "With this new method, we managed to separate one `ASR172B` mission that has been flown with a different aircraft on July 25th. But we are still being inefficient for the other ones."
   ]
  },
  {
   "cell_type": "markdown",
   "metadata": {},
   "source": [
    "<div class='alert alert-warning'>\n",
    "    <b>Exercice:</b> Let's store in the <code>bigger_chunk</code> variable all data associated to an `icao24` code equal to 3924a4.\n",
    "</div>"
   ]
  },
  {
   "cell_type": "code",
   "execution_count": 16,
   "metadata": {},
   "outputs": [],
   "source": [
    "# %load ../solutions/pandas_iterate/bigger_chunk.py\n"
   ]
  },
  {
   "cell_type": "markdown",
   "metadata": {},
   "source": [
    "<div class='alert alert-warning'>\n",
    "    <b>Exercice:</b> Suggest a way to plot how timestamps are distributed in July.\n",
    "</div>"
   ]
  },
  {
   "cell_type": "code",
   "execution_count": 19,
   "metadata": {},
   "outputs": [],
   "source": [
    "# %load ../solutions/pandas_iterate/bigger_chunk_plot.py\n"
   ]
  },
  {
   "cell_type": "markdown",
   "metadata": {},
   "source": [
    "What your plot should suggest is that these aircraft do not continuously fly. They are recording data continuously throughout the month but have long breaks in between (most probably night time)\n",
    "\n",
    "Let's see how much time is left between two consecutive timestamps:"
   ]
  },
  {
   "cell_type": "code",
   "execution_count": 20,
   "metadata": {},
   "outputs": [
    {
     "data": {
      "text/plain": [
       "<AxesSubplot:ylabel='Frequency'>"
      ]
     },
     "execution_count": 20,
     "metadata": {},
     "output_type": "execute_result"
    },
    {
     "data": {
      "image/png": "[encoded data removed]",
      "text/plain": [
       "<Figure size 432x288 with 1 Axes>"
      ]
     },
     "metadata": {
      "needs_background": "light"
     },
     "output_type": "display_data"
    }
   ],
   "source": [
    "bigger_chunk.timestamp.diff().dt.total_seconds().plot.hist(bins=20)"
   ]
  },
  {
   "cell_type": "markdown",
   "metadata": {},
   "source": [
    "Of course, for most samples, we get a decent sampling of the trajectory, hence the high density toward zero. \n",
    "\n",
    "We may adapt the command to plot the density of higher timestamp differences:"
   ]
  },
  {
   "cell_type": "code",
   "execution_count": 21,
   "metadata": {},
   "outputs": [
    {
     "data": {
      "text/plain": [
       "<AxesSubplot:ylabel='Frequency'>"
      ]
     },
     "execution_count": 21,
     "metadata": {},
     "output_type": "execute_result"
    },
    {
     "data": {
      "image/png": "[encoded data removed]",
      "text/plain": [
       "<Figure size 432x288 with 1 Axes>"
      ]
     },
     "metadata": {
      "needs_background": "light"
     },
     "output_type": "display_data"
    }
   ],
   "source": [
    "bigger_chunk.timestamp.diff().dt.total_seconds().loc[lambda x: x > 100].plot.hist(bins=20)"
   ]
  },
  {
   "cell_type": "markdown",
   "metadata": {},
   "source": [
    "This means that trajectories are separated by at least 60000 seconds (about 17 hours). We can use this idea to better iterate on our data. Let's set an arbitrary threshold (to be passed in parameter, but we could start with 20000 for instance), and yield chunks of the `bigger_chunk` dataset corresponding to consecutive timestamps.\n",
    "\n",
    "<div class='alert alert-warning'>\n",
    "    <b>Exercice:</b> Write an <code>iterate_time(data, threshold)</code> function that yields pieces of trajectories corresponding to consecutive timestamps of less than threshold seconds.\n",
    "</div>"
   ]
  },
  {
   "cell_type": "code",
   "execution_count": 1,
   "metadata": {},
   "outputs": [],
   "source": [
    "# %load ../solutions/pandas_iterate/iterate_time.py\n",
    "import numpy as np\n",
    "\n",
    "def iterate_time(data, threshold):\n",
    "    idx = np.where(data.timestamp.diff().dt.total_seconds() > threshold)[0]\n",
    "    start = 0\n",
    "    for stop in idx:\n",
    "        yield data.iloc[start:stop]\n",
    "        start = stop\n",
    "    yield data.iloc[start:]\n"
   ]
  },
  {
   "cell_type": "markdown",
   "metadata": {},
   "source": [
    "See how many trajectories you get now (on `bigger_chunk`, i.e. aircraft `3924a4`):"
   ]
  },
  {
   "cell_type": "code",
   "execution_count": 26,
   "metadata": {},
   "outputs": [
    {
     "data": {
      "text/plain": [
       "18"
      ]
     },
     "execution_count": 26,
     "metadata": {},
     "output_type": "execute_result"
    }
   ],
   "source": [
    "sum(1 for _ in iterate_time(bigger_chunk, 20000))"
   ]
  },
  {
   "cell_type": "code",
   "execution_count": 27,
   "metadata": {},
   "outputs": [
    {
     "data": {
      "text/plain": [
       "[('2019-07-09 09:24:40', '2019-07-09 16:15:30'),\n",
       " ('2019-07-10 10:12:20', '2019-07-10 16:06:40'),\n",
       " ('2019-07-11 10:14:30', '2019-07-11 16:36:50'),\n",
       " ('2019-07-12 08:29:00', '2019-07-12 15:42:10'),\n",
       " ('2019-07-13 09:25:10', '2019-07-13 16:10:10'),\n",
       " ('2019-07-14 10:11:40', '2019-07-14 16:18:10'),\n",
       " ('2019-07-15 09:18:30', '2019-07-15 15:48:30'),\n",
       " ('2019-07-17 10:43:50', '2019-07-17 13:11:50'),\n",
       " ('2019-07-18 09:02:40', '2019-07-18 15:15:00'),\n",
       " ('2019-07-19 07:27:10', '2019-07-19 16:10:10'),\n",
       " ('2019-07-20 10:42:40', '2019-07-20 15:50:10'),\n",
       " ('2019-07-21 09:17:30', '2019-07-21 16:07:00'),\n",
       " ('2019-07-23 10:30:20', '2019-07-23 16:10:40'),\n",
       " ('2019-07-24 09:32:40', '2019-07-24 11:42:00'),\n",
       " ('2019-07-25 17:00:10', '2019-07-25 17:31:10'),\n",
       " ('2019-07-26 10:45:30', '2019-07-26 15:52:50'),\n",
       " ('2019-07-27 11:30:40', '2019-07-27 15:53:20'),\n",
       " ('2019-07-28 14:50:10', '2019-07-28 19:48:20')]"
      ]
     },
     "execution_count": 27,
     "metadata": {},
     "output_type": "execute_result"
    }
   ],
   "source": [
    "list(\n",
    "    (str(chunk.timestamp.min()), str(chunk.timestamp.max()))\n",
    "    for chunk in iterate_time(bigger_chunk, 20000)\n",
    ")"
   ]
  },
  {
   "cell_type": "markdown",
   "metadata": {},
   "source": [
    "<div class='alert alert-warning'>\n",
    "    <b>Wrap it up!</b> Write an <code>iterate_all(data, threshold)</code> function that combines iteration on aircraft icao24, callsign and timestamp intervals.\n",
    "</div>"
   ]
  },
  {
   "cell_type": "code",
   "execution_count": 31,
   "metadata": {},
   "outputs": [],
   "source": [
    "# %load ../solutions/pandas_iterate/iterate_all.py\n",
    "\n"
   ]
  },
  {
   "cell_type": "code",
   "execution_count": 32,
   "metadata": {},
   "outputs": [
    {
     "data": {
      "text/plain": [
       "26"
      ]
     },
     "execution_count": 32,
     "metadata": {},
     "output_type": "execute_result"
    }
   ],
   "source": [
    "sum(1 for _ in iterate_all(df, 20000))"
   ]
  },
  {
   "cell_type": "markdown",
   "metadata": {},
   "source": [
    "You may now build a summary table like the following.\n",
    "\n",
    "<div class=\"alert alert-danger\">\n",
    "    <b>Be sure to fully understand this notebook!</b> We will be using these results during next session.\n",
    "</div>"
   ]
  },
  {
   "cell_type": "code",
   "execution_count": 33,
   "metadata": {},
   "outputs": [
    {
     "data": {
      "text/html": [
       "<div>\n",
       "<style scoped>\n",
       "    .dataframe tbody tr th:only-of-type {\n",
       "        vertical-align: middle;\n",
       "    }\n",
       "\n",
       "    .dataframe tbody tr th {\n",
       "        vertical-align: top;\n",
       "    }\n",
       "\n",
       "    .dataframe thead th {\n",
       "        text-align: right;\n",
       "    }\n",
       "</style>\n",
       "<table border=\"1\" class=\"dataframe\">\n",
       "  <thead>\n",
       "    <tr style=\"text-align: right;\">\n",
       "      <th></th>\n",
       "      <th>icao24</th>\n",
       "      <th>callsign</th>\n",
       "      <th>start</th>\n",
       "      <th>stop</th>\n",
       "    </tr>\n",
       "  </thead>\n",
       "  <tbody>\n",
       "    <tr>\n",
       "      <th>0</th>\n",
       "      <td>3924a0</td>\n",
       "      <td>ASR172B</td>\n",
       "      <td>2019-07-25 08:29:40</td>\n",
       "      <td>2019-07-25 15:30:10</td>\n",
       "    </tr>\n",
       "    <tr>\n",
       "      <th>1</th>\n",
       "      <td>3924a4</td>\n",
       "      <td>ASR172B</td>\n",
       "      <td>2019-07-09 09:24:40</td>\n",
       "      <td>2019-07-09 16:15:30</td>\n",
       "    </tr>\n",
       "    <tr>\n",
       "      <th>2</th>\n",
       "      <td>3924a4</td>\n",
       "      <td>ASR172B</td>\n",
       "      <td>2019-07-10 10:12:20</td>\n",
       "      <td>2019-07-10 16:06:40</td>\n",
       "    </tr>\n",
       "    <tr>\n",
       "      <th>3</th>\n",
       "      <td>3924a4</td>\n",
       "      <td>ASR172B</td>\n",
       "      <td>2019-07-11 10:14:30</td>\n",
       "      <td>2019-07-11 16:36:50</td>\n",
       "    </tr>\n",
       "    <tr>\n",
       "      <th>4</th>\n",
       "      <td>3924a4</td>\n",
       "      <td>ASR172B</td>\n",
       "      <td>2019-07-12 08:29:00</td>\n",
       "      <td>2019-07-12 15:42:10</td>\n",
       "    </tr>\n",
       "    <tr>\n",
       "      <th>5</th>\n",
       "      <td>3924a4</td>\n",
       "      <td>ASR172B</td>\n",
       "      <td>2019-07-13 09:25:10</td>\n",
       "      <td>2019-07-13 16:10:10</td>\n",
       "    </tr>\n",
       "    <tr>\n",
       "      <th>6</th>\n",
       "      <td>3924a4</td>\n",
       "      <td>ASR172B</td>\n",
       "      <td>2019-07-14 10:11:40</td>\n",
       "      <td>2019-07-14 16:18:10</td>\n",
       "    </tr>\n",
       "    <tr>\n",
       "      <th>7</th>\n",
       "      <td>3924a4</td>\n",
       "      <td>ASR172B</td>\n",
       "      <td>2019-07-15 09:18:30</td>\n",
       "      <td>2019-07-15 15:48:30</td>\n",
       "    </tr>\n",
       "    <tr>\n",
       "      <th>8</th>\n",
       "      <td>3924a4</td>\n",
       "      <td>ASR172B</td>\n",
       "      <td>2019-07-17 10:43:50</td>\n",
       "      <td>2019-07-17 13:11:50</td>\n",
       "    </tr>\n",
       "    <tr>\n",
       "      <th>9</th>\n",
       "      <td>3924a4</td>\n",
       "      <td>ASR172B</td>\n",
       "      <td>2019-07-18 09:02:40</td>\n",
       "      <td>2019-07-18 15:15:00</td>\n",
       "    </tr>\n",
       "    <tr>\n",
       "      <th>10</th>\n",
       "      <td>3924a4</td>\n",
       "      <td>ASR172B</td>\n",
       "      <td>2019-07-19 07:27:10</td>\n",
       "      <td>2019-07-19 16:10:10</td>\n",
       "    </tr>\n",
       "    <tr>\n",
       "      <th>11</th>\n",
       "      <td>3924a4</td>\n",
       "      <td>ASR172B</td>\n",
       "      <td>2019-07-20 10:42:40</td>\n",
       "      <td>2019-07-20 15:50:10</td>\n",
       "    </tr>\n",
       "    <tr>\n",
       "      <th>12</th>\n",
       "      <td>3924a4</td>\n",
       "      <td>ASR172B</td>\n",
       "      <td>2019-07-21 09:17:30</td>\n",
       "      <td>2019-07-21 16:07:00</td>\n",
       "    </tr>\n",
       "    <tr>\n",
       "      <th>13</th>\n",
       "      <td>3924a4</td>\n",
       "      <td>ASR172B</td>\n",
       "      <td>2019-07-23 10:30:20</td>\n",
       "      <td>2019-07-23 16:10:40</td>\n",
       "    </tr>\n",
       "    <tr>\n",
       "      <th>14</th>\n",
       "      <td>3924a4</td>\n",
       "      <td>ASR172B</td>\n",
       "      <td>2019-07-24 09:32:40</td>\n",
       "      <td>2019-07-24 11:42:00</td>\n",
       "    </tr>\n",
       "    <tr>\n",
       "      <th>15</th>\n",
       "      <td>3924a4</td>\n",
       "      <td>ASR172B</td>\n",
       "      <td>2019-07-25 17:00:10</td>\n",
       "      <td>2019-07-25 17:31:10</td>\n",
       "    </tr>\n",
       "    <tr>\n",
       "      <th>16</th>\n",
       "      <td>3924a4</td>\n",
       "      <td>ASR172B</td>\n",
       "      <td>2019-07-26 10:45:30</td>\n",
       "      <td>2019-07-26 15:52:50</td>\n",
       "    </tr>\n",
       "    <tr>\n",
       "      <th>17</th>\n",
       "      <td>3924a4</td>\n",
       "      <td>ASR172B</td>\n",
       "      <td>2019-07-27 11:30:40</td>\n",
       "      <td>2019-07-27 15:53:20</td>\n",
       "    </tr>\n",
       "    <tr>\n",
       "      <th>18</th>\n",
       "      <td>3924a4</td>\n",
       "      <td>ASR172B</td>\n",
       "      <td>2019-07-28 14:50:10</td>\n",
       "      <td>2019-07-28 19:48:20</td>\n",
       "    </tr>\n",
       "    <tr>\n",
       "      <th>19</th>\n",
       "      <td>399675</td>\n",
       "      <td>ASR171A</td>\n",
       "      <td>2019-07-12 09:04:50</td>\n",
       "      <td>2019-07-12 15:52:10</td>\n",
       "    </tr>\n",
       "    <tr>\n",
       "      <th>20</th>\n",
       "      <td>399675</td>\n",
       "      <td>ASR171A</td>\n",
       "      <td>2019-07-18 09:12:10</td>\n",
       "      <td>2019-07-18 15:25:30</td>\n",
       "    </tr>\n",
       "    <tr>\n",
       "      <th>21</th>\n",
       "      <td>399675</td>\n",
       "      <td>ASR171A</td>\n",
       "      <td>2019-07-25 09:19:00</td>\n",
       "      <td>2019-07-25 15:34:30</td>\n",
       "    </tr>\n",
       "    <tr>\n",
       "      <th>22</th>\n",
       "      <td>39b861</td>\n",
       "      <td>PXR31M</td>\n",
       "      <td>2019-07-12 09:24:40</td>\n",
       "      <td>2019-07-12 16:05:20</td>\n",
       "    </tr>\n",
       "    <tr>\n",
       "      <th>23</th>\n",
       "      <td>39b861</td>\n",
       "      <td>PXR31M</td>\n",
       "      <td>2019-07-18 09:14:20</td>\n",
       "      <td>2019-07-18 15:21:50</td>\n",
       "    </tr>\n",
       "    <tr>\n",
       "      <th>24</th>\n",
       "      <td>39b861</td>\n",
       "      <td>PXR31M</td>\n",
       "      <td>2019-07-25 10:32:20</td>\n",
       "      <td>2019-07-25 15:34:30</td>\n",
       "    </tr>\n",
       "    <tr>\n",
       "      <th>25</th>\n",
       "      <td>39bd17</td>\n",
       "      <td>PXR26M</td>\n",
       "      <td>2019-07-18 07:35:50</td>\n",
       "      <td>2019-07-18 13:52:50</td>\n",
       "    </tr>\n",
       "  </tbody>\n",
       "</table>\n",
       "</div>"
      ],
      "text/plain": [
       "    icao24 callsign               start                stop\n",
       "0   3924a0  ASR172B 2019-07-25 08:29:40 2019-07-25 15:30:10\n",
       "1   3924a4  ASR172B 2019-07-09 09:24:40 2019-07-09 16:15:30\n",
       "2   3924a4  ASR172B 2019-07-10 10:12:20 2019-07-10 16:06:40\n",
       "3   3924a4  ASR172B 2019-07-11 10:14:30 2019-07-11 16:36:50\n",
       "4   3924a4  ASR172B 2019-07-12 08:29:00 2019-07-12 15:42:10\n",
       "5   3924a4  ASR172B 2019-07-13 09:25:10 2019-07-13 16:10:10\n",
       "6   3924a4  ASR172B 2019-07-14 10:11:40 2019-07-14 16:18:10\n",
       "7   3924a4  ASR172B 2019-07-15 09:18:30 2019-07-15 15:48:30\n",
       "8   3924a4  ASR172B 2019-07-17 10:43:50 2019-07-17 13:11:50\n",
       "9   3924a4  ASR172B 2019-07-18 09:02:40 2019-07-18 15:15:00\n",
       "10  3924a4  ASR172B 2019-07-19 07:27:10 2019-07-19 16:10:10\n",
       "11  3924a4  ASR172B 2019-07-20 10:42:40 2019-07-20 15:50:10\n",
       "12  3924a4  ASR172B 2019-07-21 09:17:30 2019-07-21 16:07:00\n",
       "13  3924a4  ASR172B 2019-07-23 10:30:20 2019-07-23 16:10:40\n",
       "14  3924a4  ASR172B 2019-07-24 09:32:40 2019-07-24 11:42:00\n",
       "15  3924a4  ASR172B 2019-07-25 17:00:10 2019-07-25 17:31:10\n",
       "16  3924a4  ASR172B 2019-07-26 10:45:30 2019-07-26 15:52:50\n",
       "17  3924a4  ASR172B 2019-07-27 11:30:40 2019-07-27 15:53:20\n",
       "18  3924a4  ASR172B 2019-07-28 14:50:10 2019-07-28 19:48:20\n",
       "19  399675  ASR171A 2019-07-12 09:04:50 2019-07-12 15:52:10\n",
       "20  399675  ASR171A 2019-07-18 09:12:10 2019-07-18 15:25:30\n",
       "21  399675  ASR171A 2019-07-25 09:19:00 2019-07-25 15:34:30\n",
       "22  39b861   PXR31M 2019-07-12 09:24:40 2019-07-12 16:05:20\n",
       "23  39b861   PXR31M 2019-07-18 09:14:20 2019-07-18 15:21:50\n",
       "24  39b861   PXR31M 2019-07-25 10:32:20 2019-07-25 15:34:30\n",
       "25  39bd17   PXR26M 2019-07-18 07:35:50 2019-07-18 13:52:50"
      ]
     },
     "execution_count": 33,
     "metadata": {},
     "output_type": "execute_result"
    }
   ],
   "source": [
    "pd.DataFrame.from_records(\n",
    "    [\n",
    "        {\n",
    "            \"icao24\": chunk.icao24.min(),\n",
    "            \"callsign\": chunk.callsign.min(),\n",
    "            \"start\": chunk.timestamp.min(),\n",
    "            \"stop\": chunk.timestamp.max(),\n",
    "        }\n",
    "        for chunk in iterate_all(df, 20000)\n",
    "    ]\n",
    ")"
   ]
  },
  {
   "cell_type": "code",
   "execution_count": null,
   "metadata": {},
   "outputs": [],
   "source": []
  }
 ],
 "metadata": {
  "interpreter": {
   "hash": "c97517449cd69cb9cb4c2610efed8d27064148479f39ab2db88c14e75e0af4e3"
  },
  "kernelspec": {
   "display_name": "Python 3",
   "language": "python",
   "name": "python3"
  },
  "language_info": {
   "codemirror_mode": {
    "name": "ipython",
    "version": 3
   },
   "file_extension": ".py",
   "mimetype": "text/x-python",
   "name": "python",
   "nbconvert_exporter": "python",
   "pygments_lexer": "ipython3",
   "version": "3.9.4"
  },
  "widgets": {
   "application/vnd.jupyter.widget-state+json": {
    "state": {},
    "version_major": 2,
    "version_minor": 0
   }
  }
 },
 "nbformat": 4,
 "nbformat_minor": 4
}
