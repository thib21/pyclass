{
 "cells": [
  {
   "cell_type": "code",
   "execution_count": 2,
   "metadata": {},
   "outputs": [
    {
     "data": {
      "text/html": [
       "<div id=\"glowscript\" class=\"glowscript\"></div>"
      ],
      "text/plain": [
       "<IPython.core.display.HTML object>"
      ]
     },
     "metadata": {},
     "output_type": "display_data"
    },
    {
     "data": {
      "application/javascript": [
       "if (typeof Jupyter !== \"undefined\") { window.__context = { glowscript_container: $(\"#glowscript\").removeAttr(\"id\")};}else{ element.textContent = ' ';}"
      ],
      "text/plain": [
       "<IPython.core.display.Javascript object>"
      ]
     },
     "metadata": {},
     "output_type": "display_data"
    },
    {
     "name": "stdout",
     "output_type": "stream",
     "text": [
      "init speed 3895.7047053793945 m/s\n"
     ]
    }
   ],
   "source": [
    "from __future__ import division, print_function\n",
    "from vpython import *\n",
    "import math\n",
    "\n",
    "# Right button drag or Ctrl-drag to rotate \"camera\" to view scene.\n",
    "# To zoom, drag with middle button or Alt/Option depressed, or use scroll wheel.\n",
    "#  On a two-button mouse, middle is left + right.\n",
    "\n",
    "scene=canvas(title=\"MyFirstSatellite\")\n",
    "\n",
    "G = 6.7e-11\n",
    "radiusEarth = 6.4e6\n",
    "earth = sphere(pos=vector(0,0,0), radius=radiusEarth, color=color.blue, \n",
    "                make_trail=True, trail_type='points', interval=10, retain=200)\n",
    "earth.mass = 5.98e24\n",
    "\n",
    "mu = earth.mass * G\n",
    "\n",
    "altMEO = 20e6+radiusEarth\n",
    "\n",
    "satMEO = sphere(pos=vector(0,altMEO,0), radius=1e6, color=color.yellow, \n",
    "                make_trail=True, trail_type='points', interval=10, retain=200)\n",
    "satMEO.mass = 1.0\n",
    "satMEO.initSpeed = math.sqrt(G*earth.mass/altMEO)\n",
    "satMEO.speed = vector(-satMEO.initSpeed,0,0)\n",
    "\n",
    "print(\"init speed \"+str(satMEO.initSpeed)+\" m/s\")\n",
    "#dt = 1e5\n",
    "dt = 10\n",
    "\n",
    "i=0\n",
    "imax=1000\n",
    "while i<imax:\n",
    "    rate(100)\n",
    "    satMEO.r =  satMEO.pos - earth.pos    \n",
    "    satMEO.F =  - satMEO.mass * mu/(mag2(satMEO.r)) * norm(satMEO.r)\n",
    "    satMEO.speed = satMEO.speed + satMEO.F / satMEO.mass * dt\n",
    "    satMEO.pos = satMEO.pos + satMEO.speed*dt\n",
    "\n",
    "    \n",
    "    i +=1\n"
   ]
  },
  {
   "cell_type": "code",
   "execution_count": null,
   "metadata": {},
   "outputs": [],
   "source": []
  }
 ],
 "metadata": {
  "anaconda-cloud": {},
  "kernelspec": {
   "display_name": "VPython",
   "language": "python",
   "name": "vpython"
  },
  "language_info": {
   "codemirror_mode": {
    "name": "ipython",
    "version": 3
   },
   "file_extension": ".py",
   "mimetype": "text/x-python",
   "name": "python",
   "nbconvert_exporter": "python",
   "pygments_lexer": "ipython3",
   "version": "3.7.4"
  }
 },
 "nbformat": 4,
 "nbformat_minor": 1
}
