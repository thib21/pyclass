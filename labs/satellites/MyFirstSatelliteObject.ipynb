{
 "cells": [
  {
   "cell_type": "code",
   "execution_count": 1,
   "metadata": {},
   "outputs": [
    {
     "data": {
      "application/javascript": "require.undef(\"nbextensions/vpython_libraries/glow.min\");",
      "text/plain": [
       "<IPython.core.display.Javascript object>"
      ]
     },
     "metadata": {},
     "output_type": "display_data"
    },
    {
     "data": {
      "application/javascript": "require.undef(\"nbextensions/vpython_libraries/glowcomm\");",
      "text/plain": [
       "<IPython.core.display.Javascript object>"
      ]
     },
     "metadata": {},
     "output_type": "display_data"
    },
    {
     "data": {
      "application/javascript": "require.undef(\"nbextensions/vpython_libraries/jquery-ui.custom.min\");",
      "text/plain": [
       "<IPython.core.display.Javascript object>"
      ]
     },
     "metadata": {},
     "output_type": "display_data"
    },
    {
     "data": {
      "application/javascript": "require([\"nbextensions/vpython_libraries/glow.min\"], function(){console.log(\"GLOW LOADED\");})",
      "text/plain": [
       "<IPython.core.display.Javascript object>"
      ]
     },
     "metadata": {},
     "output_type": "display_data"
    },
    {
     "data": {
      "application/javascript": "require([\"nbextensions/vpython_libraries/glowcomm\"], function(){console.log(\"GLOWCOMM LOADED\");})",
      "text/plain": [
       "<IPython.core.display.Javascript object>"
      ]
     },
     "metadata": {},
     "output_type": "display_data"
    },
    {
     "data": {
      "application/javascript": "require([\"nbextensions/vpython_libraries/jquery-ui.custom.min\"], function(){console.log(\"JQUERY LOADED\");})",
      "text/plain": [
       "<IPython.core.display.Javascript object>"
      ]
     },
     "metadata": {},
     "output_type": "display_data"
    },
    {
     "data": {
      "text/html": [
       "<div id=\"glowscript\" class=\"glowscript\"></div>"
      ],
      "text/plain": [
       "<IPython.core.display.HTML object>"
      ]
     },
     "metadata": {},
     "output_type": "display_data"
    },
    {
     "data": {
      "application/javascript": "window.__context = { glowscript_container: $(\"#glowscript\").removeAttr(\"id\")}",
      "text/plain": [
       "<IPython.core.display.Javascript object>"
      ]
     },
     "metadata": {},
     "output_type": "display_data"
    },
    {
     "data": {
      "text/html": [
       "<div id=\"glowscript\" class=\"glowscript\"></div>"
      ],
      "text/plain": [
       "<IPython.core.display.HTML object>"
      ]
     },
     "metadata": {},
     "output_type": "display_data"
    },
    {
     "data": {
      "application/javascript": "window.__context = { glowscript_container: $(\"#glowscript\").removeAttr(\"id\")}",
      "text/plain": [
       "<IPython.core.display.Javascript object>"
      ]
     },
     "metadata": {},
     "output_type": "display_data"
    },
    {
     "ename": "KeyboardInterrupt",
     "evalue": "",
     "output_type": "error",
     "traceback": [
      "\u001b[0;31m---------------------------------------------------------------------------\u001b[0m",
      "\u001b[0;31mKeyboardInterrupt\u001b[0m                         Traceback (most recent call last)",
      "\u001b[0;32m<ipython-input-1-9a4f15c01cbf>\u001b[0m in \u001b[0;36m<module>\u001b[0;34m()\u001b[0m\n\u001b[1;32m    109\u001b[0m \u001b[0mimax\u001b[0m\u001b[0;34m=\u001b[0m\u001b[0;36m600000\u001b[0m\u001b[0;34m\u001b[0m\u001b[0m\n\u001b[1;32m    110\u001b[0m \u001b[0;32mwhile\u001b[0m \u001b[0mi\u001b[0m\u001b[0;34m<\u001b[0m\u001b[0mimax\u001b[0m\u001b[0;34m:\u001b[0m\u001b[0;34m\u001b[0m\u001b[0m\n\u001b[0;32m--> 111\u001b[0;31m     \u001b[0mrate\u001b[0m\u001b[0;34m(\u001b[0m\u001b[0;36m30\u001b[0m\u001b[0;34m)\u001b[0m\u001b[0;34m\u001b[0m\u001b[0m\n\u001b[0m\u001b[1;32m    112\u001b[0m     \u001b[0;31m#satMEO4.updatePosition(dt)\u001b[0m\u001b[0;34m\u001b[0m\u001b[0;34m\u001b[0m\u001b[0m\n\u001b[1;32m    113\u001b[0m     \u001b[0;32mfor\u001b[0m \u001b[0ms\u001b[0m \u001b[0;32min\u001b[0m \u001b[0mmySats\u001b[0m\u001b[0;34m:\u001b[0m\u001b[0;34m\u001b[0m\u001b[0m\n",
      "\u001b[0;32m~/anaconda3/lib/python3.5/site-packages/vpython/vpython.py\u001b[0m in \u001b[0;36m__call__\u001b[0;34m(self, N)\u001b[0m\n\u001b[1;32m    201\u001b[0m         \u001b[0mself\u001b[0m\u001b[0;34m.\u001b[0m\u001b[0mrval\u001b[0m \u001b[0;34m=\u001b[0m \u001b[0mN\u001b[0m\u001b[0;34m\u001b[0m\u001b[0m\n\u001b[1;32m    202\u001b[0m         \u001b[0;32mif\u001b[0m \u001b[0mself\u001b[0m\u001b[0;34m.\u001b[0m\u001b[0mrval\u001b[0m \u001b[0;34m<\u001b[0m \u001b[0;36m1\u001b[0m\u001b[0;34m:\u001b[0m \u001b[0;32mraise\u001b[0m \u001b[0mValueError\u001b[0m\u001b[0;34m(\u001b[0m\u001b[0;34m\"rate value must be greater than or equal to 1\"\u001b[0m\u001b[0;34m)\u001b[0m\u001b[0;34m\u001b[0m\u001b[0m\n\u001b[0;32m--> 203\u001b[0;31m         \u001b[0msuper\u001b[0m\u001b[0;34m(\u001b[0m\u001b[0m_RateKeeper2\u001b[0m\u001b[0;34m,\u001b[0m \u001b[0mself\u001b[0m\u001b[0;34m)\u001b[0m\u001b[0;34m.\u001b[0m\u001b[0m__call__\u001b[0m\u001b[0;34m(\u001b[0m\u001b[0mself\u001b[0m\u001b[0;34m.\u001b[0m\u001b[0mrval\u001b[0m\u001b[0;34m)\u001b[0m \u001b[0;31m## calls __call__ in rate_control.py\u001b[0m\u001b[0;34m\u001b[0m\u001b[0m\n\u001b[0m\u001b[1;32m    204\u001b[0m \u001b[0;34m\u001b[0m\u001b[0m\n\u001b[1;32m    205\u001b[0m \u001b[0;32mif\u001b[0m \u001b[0msys\u001b[0m\u001b[0;34m.\u001b[0m\u001b[0mversion\u001b[0m \u001b[0;34m>\u001b[0m \u001b[0;34m'3'\u001b[0m\u001b[0;34m:\u001b[0m\u001b[0;34m\u001b[0m\u001b[0m\n",
      "\u001b[0;32m~/anaconda3/lib/python3.5/site-packages/vpython/rate_control.py\u001b[0m in \u001b[0;36m__call__\u001b[0;34m(self, maxRate)\u001b[0m\n\u001b[1;32m    205\u001b[0m             \u001b[0mdt\u001b[0m \u001b[0;34m=\u001b[0m \u001b[0mself\u001b[0m\u001b[0;34m.\u001b[0m\u001b[0mlastSleep\u001b[0m \u001b[0;34m+\u001b[0m \u001b[0mself\u001b[0m\u001b[0;34m.\u001b[0m\u001b[0mcalls\u001b[0m\u001b[0;34m*\u001b[0m\u001b[0;34m(\u001b[0m\u001b[0mself\u001b[0m\u001b[0;34m.\u001b[0m\u001b[0muserTime\u001b[0m \u001b[0;34m+\u001b[0m \u001b[0mself\u001b[0m\u001b[0;34m.\u001b[0m\u001b[0mcallTime\u001b[0m \u001b[0;34m+\u001b[0m \u001b[0mself\u001b[0m\u001b[0;34m.\u001b[0m\u001b[0mdelay\u001b[0m\u001b[0;34m)\u001b[0m \u001b[0;34m+\u001b[0m\u001b[0;31m \u001b[0m\u001b[0;31m\\\u001b[0m\u001b[0;34m\u001b[0m\u001b[0m\n\u001b[1;32m    206\u001b[0m                  \u001b[0mrenders\u001b[0m\u001b[0;34m*\u001b[0m\u001b[0mself\u001b[0m\u001b[0;34m.\u001b[0m\u001b[0mrenderTime\u001b[0m \u001b[0;34m+\u001b[0m \u001b[0msleeps\u001b[0m\u001b[0;34m*\u001b[0m\u001b[0mself\u001b[0m\u001b[0;34m.\u001b[0m\u001b[0minteractionPeriod\u001b[0m \u001b[0;34m-\u001b[0m \u001b[0m_clock\u001b[0m\u001b[0;34m(\u001b[0m\u001b[0;34m)\u001b[0m\u001b[0;34m\u001b[0m\u001b[0m\n\u001b[0;32m--> 207\u001b[0;31m             \u001b[0m_sleep\u001b[0m\u001b[0;34m(\u001b[0m\u001b[0mdt\u001b[0m\u001b[0;34m)\u001b[0m\u001b[0;34m\u001b[0m\u001b[0m\n\u001b[0m\u001b[1;32m    208\u001b[0m             \u001b[0mself\u001b[0m\u001b[0;34m.\u001b[0m\u001b[0mlastSleep\u001b[0m \u001b[0;34m=\u001b[0m \u001b[0m_clock\u001b[0m\u001b[0;34m(\u001b[0m\u001b[0;34m)\u001b[0m\u001b[0;34m\u001b[0m\u001b[0m\n\u001b[1;32m    209\u001b[0m             \u001b[0mself\u001b[0m\u001b[0;34m.\u001b[0m\u001b[0mcalls\u001b[0m \u001b[0;34m=\u001b[0m \u001b[0;36m0\u001b[0m\u001b[0;34m\u001b[0m\u001b[0m\n",
      "\u001b[0;32m~/anaconda3/lib/python3.5/site-packages/vpython/rate_control.py\u001b[0m in \u001b[0;36m_sleep\u001b[0;34m(dt)\u001b[0m\n\u001b[1;32m     47\u001b[0m         \u001b[0mdtsleep\u001b[0m \u001b[0;34m=\u001b[0m \u001b[0mnticks\u001b[0m\u001b[0;34m*\u001b[0m\u001b[0m_tick\u001b[0m\u001b[0;34m\u001b[0m\u001b[0m\n\u001b[1;32m     48\u001b[0m         \u001b[0mt\u001b[0m \u001b[0;34m=\u001b[0m \u001b[0m_clock\u001b[0m\u001b[0;34m(\u001b[0m\u001b[0;34m)\u001b[0m\u001b[0;34m\u001b[0m\u001b[0m\n\u001b[0;32m---> 49\u001b[0;31m         \u001b[0mtime\u001b[0m\u001b[0;34m.\u001b[0m\u001b[0msleep\u001b[0m\u001b[0;34m(\u001b[0m\u001b[0mdtsleep\u001b[0m\u001b[0;34m)\u001b[0m\u001b[0;34m\u001b[0m\u001b[0m\n\u001b[0m\u001b[1;32m     50\u001b[0m         \u001b[0mt\u001b[0m \u001b[0;34m=\u001b[0m \u001b[0m_clock\u001b[0m\u001b[0;34m(\u001b[0m\u001b[0;34m)\u001b[0m\u001b[0;34m-\u001b[0m\u001b[0mt\u001b[0m\u001b[0;34m\u001b[0m\u001b[0m\n\u001b[1;32m     51\u001b[0m         \u001b[0mdt\u001b[0m \u001b[0;34m-=\u001b[0m \u001b[0mt\u001b[0m\u001b[0;34m\u001b[0m\u001b[0m\n",
      "\u001b[0;31mKeyboardInterrupt\u001b[0m: "
     ]
    }
   ],
   "source": [
    "from vpython import canvas, sphere, vector, color, box, mag, mag2, norm, rate, cone\n",
    "import math\n",
    "\n",
    "# Right button drag or Ctrl-drag to rotate \"camera\" to view scene.\n",
    "# To zoom, drag with middle button or Alt/Option depressed, or use scroll wheel.\n",
    "#  On a two-button mouse, middle is left + right.\n",
    "\n",
    "scene = canvas(title=\"MyFirstSatelliteObject\")\n",
    "G = 6.7e-11\n",
    "\n",
    "\n",
    "class Planet(sphere):\n",
    "    def __init__(self, mass, position, radius, color):\n",
    "        super().__init__(\n",
    "            pos=position,\n",
    "            radius=radius,\n",
    "            color=color,\n",
    "            make_trail=True,\n",
    "            trail_type=\"points\",\n",
    "            interval=10,\n",
    "            retain=200,\n",
    "        )\n",
    "        self.mass = mass\n",
    "        self.radius = radius\n",
    "        self.mu = self.mass * G\n",
    "        self.pos = position\n",
    "\n",
    "\n",
    "earth = Planet(5.98e24, vector(0, 0, 0), 6.4e6, color.blue)\n",
    "moon = Planet(\n",
    "    0.07346e24, vector(0, 378e5, 0), 1.736e6, color.white\n",
    ")  # pos modif for beauty\n",
    "\n",
    "\n",
    "class Satellite(Planet):\n",
    "    def __init__(self, refPlanet, position, color, speed):\n",
    "        massSat = 1.0\n",
    "        radiusSat = 1e6\n",
    "        self.refPlanet = refPlanet\n",
    "        super().__init__(massSat, position, radiusSat, color)\n",
    "        self.speed = speed\n",
    "\n",
    "        self.wingShift = 1e6\n",
    "        self.myboxRight = box(\n",
    "            pos=vector(position.x + self.wingShift, position.y, position.z),\n",
    "            length=1e7,\n",
    "            height=1e4,\n",
    "            width=5e6,\n",
    "        )\n",
    "        self.myboxLeft = box(\n",
    "            pos=vector(position.x - self.wingShift, position.y, position.z),\n",
    "            length=1e7,\n",
    "            height=1e4,\n",
    "            width=5e6,\n",
    "        )\n",
    "\n",
    "        self.r = self.refPlanet.pos - self.pos\n",
    "        self.withCoverage = False\n",
    "\n",
    "    def updatePosition(self, dt):\n",
    "        self.r = self.refPlanet.pos - self.pos\n",
    "        F = self.mass * self.refPlanet.mu / (mag2(self.r)) * norm(self.r)\n",
    "        self.speed = self.speed + F / self.mass * dt\n",
    "        self.pos = self.pos + self.speed * dt\n",
    "        self.myboxRight.pos = vector(\n",
    "            self.pos.x + self.wingShift, self.pos.y, self.pos.z\n",
    "        )\n",
    "        self.myboxLeft.pos = vector(\n",
    "            self.pos.x - self.wingShift, self.pos.y, self.pos.z\n",
    "        )\n",
    "\n",
    "        if self.withCoverage:\n",
    "            self.coverage.axis = -self.r\n",
    "            self.coverage.pos = (\n",
    "                vector(self.pos.x, self.pos.y, self.pos.z) + self.r\n",
    "            )\n",
    "\n",
    "    def addCoverage(self, deg):\n",
    "        self.withCoverage = True\n",
    "\n",
    "        # self.refPlanet.radius\n",
    "        radius = math.tan(deg * math.pi / 180) * mag(self.r)\n",
    "        axis = -self.r\n",
    "        self.coverage = cone(\n",
    "            pos=vector(self.pos.x, self.pos.y, self.pos.z) + self.r,\n",
    "            axis=axis,\n",
    "            radius=radius,\n",
    "        )\n",
    "\n",
    "    def changeOrbitSamePlane(self, alpha):\n",
    "        x = mag(self.pos) * math.cos(alpha)\n",
    "        y = mag(self.pos) * math.sin(alpha)\n",
    "        vx = mag(self.speed) * math.sin(alpha)\n",
    "        vy = -mag(self.speed) * math.cos(alpha)\n",
    "        self.pos = vector(x, y, 0)\n",
    "        self.speed = vector(vx, vy, 0)\n",
    "\n",
    "\n",
    "mySats = []\n",
    "altMEO = 20e6 + earth.radius\n",
    "initSpeedMEO = math.sqrt(G * earth.mass / altMEO)\n",
    "initSpeedMEOVect = vector(initSpeedMEO, 0, 0)\n",
    "satMEO = Satellite(earth, vector(0, altMEO, 0), color.yellow, initSpeedMEOVect)\n",
    "mySats.append(satMEO)\n",
    "# code largement reductible\n",
    "\n",
    "# satMEO.addCoverage(12)\n",
    "\n",
    "\n",
    "# altGEO = 36e6+earth.radius\n",
    "# initSpeedGEO = math.sqrt(G*earth.mass/altGEO)\n",
    "# initSpeedGEOVect = vector(-initSpeedGEO,0,0)\n",
    "# satGEO = Satellite(earth,vector(0,-altGEO,0),color.yellow,-initSpeedGEOVect)\n",
    "# satGEO.addCoverage(17)\n",
    "# mySats.append(satGEO)\n",
    "\n",
    "initSpeedMEOVect = vector(initSpeedMEO, 0, 0)\n",
    "satMEO2 = Satellite(earth, vector(0, altMEO, 0), color.yellow, initSpeedMEOVect)\n",
    "satMEO2.changeOrbitSamePlane(math.radians(30))\n",
    "mySats.append(satMEO2)\n",
    "\n",
    "initSpeedMEOVect = vector(initSpeedMEO, 0, 0)\n",
    "satMEO3 = Satellite(earth, vector(0, altMEO, 0), color.yellow, initSpeedMEOVect)\n",
    "satMEO3.changeOrbitSamePlane(math.radians(60))\n",
    "mySats.append(satMEO3)\n",
    "\n",
    "initSpeedMEOVect = vector(initSpeedMEO, 0, 0)\n",
    "print(initSpeedMEOVect)\n",
    "theta = math.radians(30)\n",
    "initSpeedMEOVect = initSpeedMEOVect.rotate(theta, vector(0, 1, 0))\n",
    "print(initSpeedMEOVect)\n",
    "satMEO4 = Satellite(earth, vector(0, altMEO, 0), color.yellow, initSpeedMEOVect)\n",
    "mySats.append(satMEO4)\n",
    "\n",
    "dt = 10\n",
    "i = 0\n",
    "imax = 600000\n",
    "while i < imax:\n",
    "    rate(30)\n",
    "    # satMEO4.updatePosition(dt)\n",
    "    for s in mySats:\n",
    "        s.updatePosition(dt)\n",
    "\n",
    "    i += 1\n"
   ]
  }
 ],
 "metadata": {
  "anaconda-cloud": {},
  "kernelspec": {
   "display_name": "VPython",
   "language": "python",
   "name": "vpython"
  },
  "language_info": {
   "codemirror_mode": {
    "name": "ipython",
    "version": 3
   },
   "file_extension": ".py",
   "mimetype": "text/x-python",
   "name": "python",
   "nbconvert_exporter": "python",
   "pygments_lexer": "ipython3",
   "version": "3.7.4"
  }
 },
 "nbformat": 4,
 "nbformat_minor": 1
}
